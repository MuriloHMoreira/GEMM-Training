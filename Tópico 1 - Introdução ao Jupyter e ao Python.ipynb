{
 "cells": [
  {
   "cell_type": "markdown",
   "metadata": {},
   "source": [
    "# Jupyter Notebook"
   ]
  },
  {
   "cell_type": "markdown",
   "metadata": {},
   "source": [
    "## Literal Programming"
   ]
  },
  {
   "cell_type": "markdown",
   "metadata": {},
   "source": [
    "O conceito de programação literária introduzido por Donald Knuth [[1](#proglit)] introduz a ideia de que os códigos dos programas devem ser o mais passíveis de serem lidos o possível. Dessa forma, a identificação de bugs, o compartilhamento de algoritmos com outros usuários e o próprio ensino se tornam mais simples e direto. \n",
    "\n",
    "A ideia de conciliar códigos com texto pode ser encarado como uma extensão dessa ideia, não só o código em si seria passível de ser lido como também trechos mais complexos poderiam ser explicados através de trechos de texto. Conforme a linguagem python se estabeleceu como uma das mais prolíficas e universais linguagens no ramo da ciência o conceito de *\"Notebook\"* (local onde o cientista anota hipóteses, observações e resultados) originou a ideia de se criar um ambiente no qual se possa realizar analises computacionais, registrar hipóteses, resultados, ideias, explicar trechos de códigos e etc. Dessa forma uma excelente ferramenta é o Jupyter Notebook, onde não só texto, como fórmulas matemáticas ($f(x) = k_0 e^{-x}$), imagens e vídeos podem ser colocados em um único arquivo."
   ]
  },
  {
   "cell_type": "markdown",
   "metadata": {},
   "source": [
    "## Vantagens"
   ]
  },
  {
   "cell_type": "markdown",
   "metadata": {},
   "source": [
    "Como principal vantagem, o notebook se torna um arquivo no qual toda a análise se resume. Dado que seja bem construído, ele pode considerar referências para outros usuários ou para si mesmo para recordar como cada componente deveria se comportar.\n",
    "\n",
    "Porém não é só isso, o fato de python ser uma linguagem que não necessita de pré compilação unida de um ambiente no qual as váriaveis já declaradas são armazenadas no kernel, permitem que o debug seja rápido e eficiente, sem contar que é o ambiente ideal para prototipar códigos rapidamente.\n",
    "\n",
    "Além disso, converter um notebook para pdf ou um arquivo .py tradicional é extremamente rápido e permite uma maior facilidade de compartilhar as análises.\n",
    "\n",
    "Por fim, a existência do Binder permite que se possa compartilhar ambientes virtuais no qual diferentes usuários podem repetir a mesma análise realizada, o que garante (parcialmente) a repetibilidade das análises, uma das principais características para a ciência."
   ]
  },
  {
   "cell_type": "markdown",
   "metadata": {},
   "source": [
    "## Cuidados"
   ]
  },
  {
   "cell_type": "markdown",
   "metadata": {},
   "source": [
    "A ideia da programação seria converter análises matemáticas em uma linguagem em que o computador entenda e realize as operações de forma correta da maneira mais eficiente (em termos de tempo, quantidade de linhas de comando, facilidade de input e output de dados) possível.\n",
    "\n",
    "Entretanto, quando se utiliza uma linguagem voltada ao objeto de nível tão elevado quanto python, é muito fácil deixar toda a parte de otimização e simplesmente fazer um código que resulte nos dados esperados.\n",
    "\n",
    "Tal abordagem pode resultar em códigos espagueti, isto é, altamente confusos e pouco generalizados. Embora no longo prazo seria importante criar e desenvolver o raciocínio lógico de forma que se possa de fato programar da maneira eficiente e correta, por hora tal formalidade pode ser deixada de lado e o foco ser em *\"get things done\"* [[2](#cowboy)]."
   ]
  },
  {
   "cell_type": "markdown",
   "metadata": {},
   "source": [
    "# Python"
   ]
  },
  {
   "cell_type": "markdown",
   "metadata": {},
   "source": [
    "## Hello World!"
   ]
  },
  {
   "cell_type": "markdown",
   "metadata": {
    "ExecuteTime": {
     "end_time": "2018-10-18T17:20:34.210964Z",
     "start_time": "2018-10-18T17:20:34.205964Z"
    }
   },
   "source": [
    "Para executar uma célula basta clica \"Ctrl+Enter\" (ou \"Shift+Enter\" para executar a célula atual e seguir para a próxima).\n",
    "\n",
    "Um clichê mas que é um belo ponto de partida é rodar a seguinte célula:"
   ]
  },
  {
   "cell_type": "code",
   "execution_count": 1,
   "metadata": {
    "ExecuteTime": {
     "end_time": "2018-10-23T15:55:57.933863Z",
     "start_time": "2018-10-23T15:55:57.929926Z"
    }
   },
   "outputs": [
    {
     "name": "stdout",
     "output_type": "stream",
     "text": [
      "Hello World!\n"
     ]
    }
   ],
   "source": [
    "messagem = 'Hello World!'\n",
    "print(messagem)"
   ]
  },
  {
   "cell_type": "markdown",
   "metadata": {},
   "source": [
    "Porém, em jupyter, muitas vezes não é necessário usar a função print, é possível apenas executar a célula (\"Shift-Enter\")"
   ]
  },
  {
   "cell_type": "code",
   "execution_count": 2,
   "metadata": {
    "ExecuteTime": {
     "end_time": "2018-10-23T16:01:05.497320Z",
     "start_time": "2018-10-23T16:01:05.492460Z"
    }
   },
   "outputs": [
    {
     "name": "stdout",
     "output_type": "stream",
     "text": [
      "3\n"
     ]
    }
   ],
   "source": [
    "A = 1\n",
    "B = 2\n",
    "print(A+B)"
   ]
  },
  {
   "cell_type": "code",
   "execution_count": 3,
   "metadata": {
    "ExecuteTime": {
     "end_time": "2018-10-23T15:58:58.493504Z",
     "start_time": "2018-10-23T15:58:58.488624Z"
    }
   },
   "outputs": [
    {
     "ename": "NameError",
     "evalue": "name 'C' is not defined",
     "output_type": "error",
     "traceback": [
      "\u001b[0;31m---------------------------------------------------------------------------\u001b[0m",
      "\u001b[0;31mNameError\u001b[0m                                 Traceback (most recent call last)",
      "\u001b[0;32m<ipython-input-3-fcba260da1c2>\u001b[0m in \u001b[0;36m<module>\u001b[0;34m\u001b[0m\n\u001b[0;32m----> 1\u001b[0;31m \u001b[0mprint\u001b[0m\u001b[0;34m(\u001b[0m\u001b[0mA\u001b[0m\u001b[0;34m,\u001b[0m \u001b[0mB\u001b[0m\u001b[0;34m,\u001b[0m \u001b[0mC\u001b[0m\u001b[0;34m)\u001b[0m\u001b[0;34m\u001b[0m\u001b[0;34m\u001b[0m\u001b[0m\n\u001b[0m",
      "\u001b[0;31mNameError\u001b[0m: name 'C' is not defined"
     ]
    }
   ],
   "source": [
    "print(A, B, C)"
   ]
  },
  {
   "cell_type": "markdown",
   "metadata": {},
   "source": [
    "## Listas"
   ]
  },
  {
   "cell_type": "markdown",
   "metadata": {},
   "source": [
    "Listas são sequências ordenadas de vlaores, é possível manipular uma lista de diferentes formas:"
   ]
  },
  {
   "cell_type": "code",
   "execution_count": 4,
   "metadata": {
    "ExecuteTime": {
     "end_time": "2018-10-23T16:11:49.001308Z",
     "start_time": "2018-10-23T16:11:48.996428Z"
    }
   },
   "outputs": [
    {
     "data": {
      "text/plain": [
       "[1, 2, 3, 4, 5]"
      ]
     },
     "execution_count": 4,
     "metadata": {},
     "output_type": "execute_result"
    }
   ],
   "source": [
    "lista = [1, 2, 3, 4, 5]\n",
    "lista"
   ]
  },
  {
   "cell_type": "code",
   "execution_count": 5,
   "metadata": {
    "ExecuteTime": {
     "end_time": "2018-10-23T16:04:29.030083Z",
     "start_time": "2018-10-23T16:04:29.025204Z"
    }
   },
   "outputs": [
    {
     "data": {
      "text/plain": [
       "[4, 5]"
      ]
     },
     "execution_count": 5,
     "metadata": {},
     "output_type": "execute_result"
    }
   ],
   "source": [
    "lista[3:]"
   ]
  },
  {
   "cell_type": "code",
   "execution_count": 6,
   "metadata": {
    "ExecuteTime": {
     "end_time": "2018-10-18T17:24:03.745354Z",
     "start_time": "2018-10-18T17:24:03.740306Z"
    }
   },
   "outputs": [
    {
     "data": {
      "text/plain": [
       "[1, 2]"
      ]
     },
     "execution_count": 6,
     "metadata": {},
     "output_type": "execute_result"
    }
   ],
   "source": [
    "lista[:2]"
   ]
  },
  {
   "cell_type": "code",
   "execution_count": 7,
   "metadata": {
    "ExecuteTime": {
     "end_time": "2018-10-23T16:11:53.860447Z",
     "start_time": "2018-10-23T16:11:53.855581Z"
    },
    "scrolled": true
   },
   "outputs": [
    {
     "data": {
      "text/plain": [
       "[6, 1, 2, 3, 4, 5]"
      ]
     },
     "execution_count": 7,
     "metadata": {},
     "output_type": "execute_result"
    }
   ],
   "source": [
    "lista = [6] + lista\n",
    "lista"
   ]
  },
  {
   "cell_type": "code",
   "execution_count": 8,
   "metadata": {
    "ExecuteTime": {
     "end_time": "2018-10-23T16:08:34.245032Z",
     "start_time": "2018-10-23T16:08:34.240151Z"
    }
   },
   "outputs": [
    {
     "data": {
      "text/plain": [
       "False"
      ]
     },
     "execution_count": 8,
     "metadata": {},
     "output_type": "execute_result"
    }
   ],
   "source": [
    "lista==[1, 2, 3, 4, 5, 6]"
   ]
  },
  {
   "cell_type": "markdown",
   "metadata": {},
   "source": [
    "## Loops"
   ]
  },
  {
   "cell_type": "markdown",
   "metadata": {},
   "source": [
    "Há duas formas para realizar loops em python. Uma delas é a forma clássica, iniciando um trecho de código que deve ser repetido n vezes. "
   ]
  },
  {
   "cell_type": "markdown",
   "metadata": {},
   "source": [
    "- Adicionar um comentário sobre como contstruir o loop e a identação"
   ]
  },
  {
   "cell_type": "code",
   "execution_count": 9,
   "metadata": {
    "ExecuteTime": {
     "end_time": "2018-10-18T17:32:02.235082Z",
     "start_time": "2018-10-18T17:32:02.231494Z"
    },
    "scrolled": true
   },
   "outputs": [
    {
     "name": "stdout",
     "output_type": "stream",
     "text": [
      "0\n",
      "1\n",
      "2\n",
      "3\n",
      "4\n",
      "5\n"
     ]
    }
   ],
   "source": [
    "for i in range(6):\n",
    "    print(i)"
   ]
  },
  {
   "cell_type": "code",
   "execution_count": 10,
   "metadata": {
    "ExecuteTime": {
     "end_time": "2018-10-23T16:12:09.738752Z",
     "start_time": "2018-10-23T16:12:09.733836Z"
    }
   },
   "outputs": [
    {
     "name": "stdout",
     "output_type": "stream",
     "text": [
      "6\n",
      "1\n",
      "2\n",
      "3\n",
      "4\n",
      "5\n"
     ]
    }
   ],
   "source": [
    "for i in range(6):\n",
    "    print(lista[i])"
   ]
  },
  {
   "cell_type": "markdown",
   "metadata": {},
   "source": [
    "Porém, não é necessário iterar sobre uma sequência de números, podemos iterar sobre cada valor de uma lista:"
   ]
  },
  {
   "cell_type": "code",
   "execution_count": 11,
   "metadata": {
    "ExecuteTime": {
     "end_time": "2018-10-23T16:27:33.572726Z",
     "start_time": "2018-10-23T16:27:33.568856Z"
    },
    "scrolled": true
   },
   "outputs": [
    {
     "name": "stdout",
     "output_type": "stream",
     "text": [
      "12\n",
      "7\n",
      "8\n",
      "9\n",
      "10\n",
      "11\n"
     ]
    }
   ],
   "source": [
    "for i in lista:\n",
    "    print(i+6)"
   ]
  },
  {
   "cell_type": "markdown",
   "metadata": {},
   "source": [
    "Além disso, a segunda maneira de fazer um loop é compactar ele em uma única linha:"
   ]
  },
  {
   "cell_type": "markdown",
   "metadata": {},
   "source": [
    "## Dicionários"
   ]
  },
  {
   "cell_type": "markdown",
   "metadata": {},
   "source": [
    "Muitas vezes, queremos organizar informações diferentes de um mesmo objeto. Por exemplo tomemos uma lista de propriedades de uma liga metálica qualquer, o alumínio 6061 [[3](#6601)]:\n",
    "\n",
    "\n",
    "| Propriedade | Valor | \n",
    "|-------------|------ | \n",
    "| Dureza Brinell | 93 [-] | \n",
    "| Módulo de Young| 69 [GPa] | \n",
    "| Módulo de Cisalhamento | 26 [GPa] |\n",
    "| Tensão de ruptura | 310 [MPa] |\n",
    "| Temperatura de fusão | 650 [°C] |\n",
    "| Condutividade térmica | 170 [W/(mK)] |\n",
    "| Expansão térmica | 24 [$\\mu$m/m K] |\n",
    "| Propriedade Óticas | Brilhante e opaco |"
   ]
  },
  {
   "cell_type": "code",
   "execution_count": 12,
   "metadata": {
    "ExecuteTime": {
     "end_time": "2018-10-23T16:17:02.354469Z",
     "start_time": "2018-10-23T16:17:02.350528Z"
    }
   },
   "outputs": [],
   "source": [
    "al_6061 = {'Hb':93, 'E':69, 'G':26, 'sigma':310, 'Tm':650, 'k':170,\n",
    "           'alpha':24, 'otics': 'Brilhante e opaco'}"
   ]
  },
  {
   "cell_type": "code",
   "execution_count": 13,
   "metadata": {
    "ExecuteTime": {
     "end_time": "2018-10-23T16:17:09.158222Z",
     "start_time": "2018-10-23T16:17:09.154342Z"
    }
   },
   "outputs": [
    {
     "data": {
      "text/plain": [
       "93"
      ]
     },
     "execution_count": 13,
     "metadata": {},
     "output_type": "execute_result"
    }
   ],
   "source": [
    "al_6061['Hb']"
   ]
  },
  {
   "cell_type": "code",
   "execution_count": 14,
   "metadata": {
    "ExecuteTime": {
     "end_time": "2018-10-18T17:42:32.653996Z",
     "start_time": "2018-10-18T17:42:32.649010Z"
    }
   },
   "outputs": [
    {
     "data": {
      "text/plain": [
       "dict_keys(['Hb', 'E', 'G', 'sigma', 'Tm', 'k', 'alpha', 'otics'])"
      ]
     },
     "execution_count": 14,
     "metadata": {},
     "output_type": "execute_result"
    }
   ],
   "source": [
    "al_6061.keys()"
   ]
  },
  {
   "cell_type": "code",
   "execution_count": 15,
   "metadata": {
    "ExecuteTime": {
     "end_time": "2018-10-18T17:43:08.755316Z",
     "start_time": "2018-10-18T17:43:08.749318Z"
    }
   },
   "outputs": [
    {
     "data": {
      "text/plain": [
       "dict_values([93, 69, 26, 310, 650, 170, 24, 'Brilhante e opaco'])"
      ]
     },
     "execution_count": 15,
     "metadata": {},
     "output_type": "execute_result"
    }
   ],
   "source": [
    "al_6061.values()"
   ]
  },
  {
   "cell_type": "markdown",
   "metadata": {},
   "source": [
    "## Funções"
   ]
  },
  {
   "cell_type": "markdown",
   "metadata": {},
   "source": [
    "Podemos desejar criar uma função, que nada mais é que uma \"máquina\" que você fornece um *input* e ela lhe retorna um *output*.\n",
    "Em python, podemos criar facilmente, tomemos uma função simples, $f(x) = x^2 + x + 5$.\n"
   ]
  },
  {
   "cell_type": "code",
   "execution_count": 16,
   "metadata": {
    "ExecuteTime": {
     "end_time": "2018-10-23T16:23:12.944282Z",
     "start_time": "2018-10-23T16:23:12.941323Z"
    }
   },
   "outputs": [],
   "source": [
    "def f(x):\n",
    "    return x**2+x+5"
   ]
  },
  {
   "cell_type": "code",
   "execution_count": 17,
   "metadata": {
    "ExecuteTime": {
     "end_time": "2018-10-23T16:23:13.380408Z",
     "start_time": "2018-10-23T16:23:13.375530Z"
    }
   },
   "outputs": [
    {
     "data": {
      "text/plain": [
       "25"
      ]
     },
     "execution_count": 17,
     "metadata": {},
     "output_type": "execute_result"
    }
   ],
   "source": [
    "f(4)"
   ]
  },
  {
   "cell_type": "markdown",
   "metadata": {},
   "source": [
    "Podemos ter parâmetros setados em um default numa função, isto é, a menos que o usuário da ferramenta específique, o parâmetro terá um valor específico."
   ]
  },
  {
   "cell_type": "code",
   "execution_count": 18,
   "metadata": {
    "ExecuteTime": {
     "end_time": "2018-10-18T17:47:18.259467Z",
     "start_time": "2018-10-18T17:47:18.255479Z"
    }
   },
   "outputs": [],
   "source": [
    "def f(x, c=5):\n",
    "    return x**2 + x + c"
   ]
  },
  {
   "cell_type": "code",
   "execution_count": 19,
   "metadata": {
    "ExecuteTime": {
     "end_time": "2018-10-18T17:47:25.716528Z",
     "start_time": "2018-10-18T17:47:25.711669Z"
    }
   },
   "outputs": [
    {
     "data": {
      "text/plain": [
       "(11, 6)"
      ]
     },
     "execution_count": 19,
     "metadata": {},
     "output_type": "execute_result"
    }
   ],
   "source": [
    "f(2), f(2, c=0)"
   ]
  },
  {
   "cell_type": "markdown",
   "metadata": {},
   "source": [
    "## Módulos Importantes"
   ]
  },
  {
   "cell_type": "markdown",
   "metadata": {},
   "source": [
    "Em python é possível importar módulos, isso é, trazer funções, variáveis, listas, dicionários e etc, que já estão descritos em um script .py, tais pacotes podem ser instalados facilmente através da interface pip. Porém, para a oficina (que possui um caráter introdutório) apresentaremos alguns dos principais pacotes que muitas vezes já estão inclusive instalados quando se instala o python."
   ]
  },
  {
   "cell_type": "markdown",
   "metadata": {},
   "source": [
    "### Numpy"
   ]
  },
  {
   "cell_type": "markdown",
   "metadata": {},
   "source": [
    "O numpy é a biblioteca responsável pelas funções que manipulam cálculos numéricos. Para tanto, um objeto fundamental é uma lista de números chamada vetor:"
   ]
  },
  {
   "cell_type": "code",
   "execution_count": 20,
   "metadata": {
    "ExecuteTime": {
     "end_time": "2018-10-24T14:14:43.181043Z",
     "start_time": "2018-10-24T14:14:33.675380Z"
    }
   },
   "outputs": [
    {
     "data": {
      "text/plain": [
       "array([1, 2, 3, 4, 5])"
      ]
     },
     "execution_count": 20,
     "metadata": {},
     "output_type": "execute_result"
    }
   ],
   "source": [
    "import numpy as np\n",
    "\n",
    "a = np.array([1, 2, 3, 4, 5])\n",
    "a"
   ]
  },
  {
   "cell_type": "markdown",
   "metadata": {},
   "source": [
    "Observe que durante a importação da libary podemos dar um apelido para que possamos chamar as funções dessa library de maneira mais fácil, no caso, todas as funções da biblioteca numpy devem ser precididas por np.\n",
    "\n",
    "Você poderia achar desnecessário criar um objeto específico para fazer uma lista de números já que o python lhe permite facilmente criar uma lista com a sintaxe [  ] porém, observe que o comportamento de uma array é diferente de uma lista."
   ]
  },
  {
   "cell_type": "code",
   "execution_count": 21,
   "metadata": {
    "ExecuteTime": {
     "end_time": "2018-10-23T16:26:14.940742Z",
     "start_time": "2018-10-23T16:26:14.925158Z"
    }
   },
   "outputs": [
    {
     "name": "stdout",
     "output_type": "stream",
     "text": [
      "[ 6  7  8  9 10]\n"
     ]
    },
    {
     "ename": "TypeError",
     "evalue": "can only concatenate list (not \"int\") to list",
     "output_type": "error",
     "traceback": [
      "\u001b[0;31m---------------------------------------------------------------------------\u001b[0m",
      "\u001b[0;31mTypeError\u001b[0m                                 Traceback (most recent call last)",
      "\u001b[0;32m<ipython-input-21-58f0712f084d>\u001b[0m in \u001b[0;36m<module>\u001b[0;34m\u001b[0m\n\u001b[1;32m      2\u001b[0m \u001b[0ma_lista\u001b[0m \u001b[0;34m=\u001b[0m \u001b[0;34m[\u001b[0m\u001b[0;36m1\u001b[0m\u001b[0;34m,\u001b[0m \u001b[0;36m2\u001b[0m\u001b[0;34m,\u001b[0m \u001b[0;36m3\u001b[0m\u001b[0;34m,\u001b[0m \u001b[0;36m4\u001b[0m\u001b[0;34m,\u001b[0m \u001b[0;36m5\u001b[0m\u001b[0;34m]\u001b[0m\u001b[0;34m\u001b[0m\u001b[0;34m\u001b[0m\u001b[0m\n\u001b[1;32m      3\u001b[0m \u001b[0mprint\u001b[0m\u001b[0;34m(\u001b[0m\u001b[0ma_array\u001b[0m \u001b[0;34m+\u001b[0m \u001b[0;36m5\u001b[0m\u001b[0;34m)\u001b[0m\u001b[0;34m\u001b[0m\u001b[0;34m\u001b[0m\u001b[0m\n\u001b[0;32m----> 4\u001b[0;31m \u001b[0mprint\u001b[0m\u001b[0;34m(\u001b[0m\u001b[0ma_lista\u001b[0m \u001b[0;34m+\u001b[0m \u001b[0;36m5\u001b[0m\u001b[0;34m)\u001b[0m\u001b[0;34m\u001b[0m\u001b[0;34m\u001b[0m\u001b[0m\n\u001b[0m",
      "\u001b[0;31mTypeError\u001b[0m: can only concatenate list (not \"int\") to list"
     ]
    }
   ],
   "source": [
    "a_array = np.array([1, 2, 3, 4, 5])\n",
    "a_lista = [1, 2, 3, 4, 5]\n",
    "print(a_array + 5)\n",
    "print(a_lista + 5)\n"
   ]
  },
  {
   "cell_type": "markdown",
   "metadata": {},
   "source": [
    "Uma lista só pode ser somada a outra lista. Para adicionar um inteiro nessa lista seria necessário iterar sobre toda lista usando um loop. As arrays nos salvam desse processo tedioso e permite a manipulação de listas de números muito mais facilmente"
   ]
  },
  {
   "cell_type": "markdown",
   "metadata": {},
   "source": [
    "### Matplotlib"
   ]
  },
  {
   "cell_type": "markdown",
   "metadata": {},
   "source": [
    "Aqui, a minha library predileta, matplotlib que permite ao usuário criar gráficos de uma maneira lógica, assertiva e reprodutiva. Além de conferir uma míriade de possibilidades ela permite criar gráficos complexos que muitas vezes necessitariam de opções pagas (como Excel, ou ainda Origin).\n",
    "\n",
    "Talvez esse seja o principal apelo e a melhor maneira de aprender a programar, simplesmente tratando dados e obtendo visualizações de valores numéricos."
   ]
  },
  {
   "cell_type": "code",
   "execution_count": 22,
   "metadata": {
    "ExecuteTime": {
     "end_time": "2018-10-10T21:51:00.926279Z",
     "start_time": "2018-10-10T21:51:00.316927Z"
    }
   },
   "outputs": [],
   "source": [
    "import matplotlib.pyplot as plt"
   ]
  },
  {
   "cell_type": "markdown",
   "metadata": {},
   "source": [
    "Um breve comentário sobre o import, como a biblioteca matplotlib é muito grande (tem um conteúdo de funções muito grande) nós importamos apenas uma parte da bilbioteca. Essa sintaxe do \".\" já foi utilizada quando queríamos acessar funções específicas de uma classe. A idéia aqui é a mesma.\n",
    "\n",
    "Além de importar precisamos adicionar uma linha para garantir que a imagem se forme nessa mesma janela. Para tanto escrevemos:"
   ]
  },
  {
   "cell_type": "code",
   "execution_count": 23,
   "metadata": {
    "ExecuteTime": {
     "end_time": "2018-10-10T21:53:05.537371Z",
     "start_time": "2018-10-10T21:53:05.521417Z"
    }
   },
   "outputs": [],
   "source": [
    "%matplotlib inline"
   ]
  },
  {
   "cell_type": "markdown",
   "metadata": {
    "ExecuteTime": {
     "end_time": "2018-10-10T21:53:43.257240Z",
     "start_time": "2018-10-10T21:53:43.249709Z"
    }
   },
   "source": [
    "O uso do sinal de porcentagem é apenas para indicar que estamos pedindo ao jupyter que as imagens sejam mostradas *\"inline\"*\n",
    "isto é, logo abaixo do trecho de código que chama a imagem."
   ]
  },
  {
   "cell_type": "code",
   "execution_count": 24,
   "metadata": {
    "ExecuteTime": {
     "end_time": "2018-10-10T21:54:46.279297Z",
     "start_time": "2018-10-10T21:54:46.076092Z"
    }
   },
   "outputs": [
    {
     "data": {
      "image/png": "[encoded data removed]",
      "text/plain": [
       "<Figure size 432x288 with 1 Axes>"
      ]
     },
     "metadata": {
      "needs_background": "light"
     },
     "output_type": "display_data"
    }
   ],
   "source": [
    "x = np.array([1, 2, 3, 4, 5, 6, 7, 8, 9, 10])\n",
    "plt.plot(x, x**2)\n",
    "\n",
    "plt.show()"
   ]
  },
  {
   "cell_type": "markdown",
   "metadata": {
    "ExecuteTime": {
     "end_time": "2018-10-10T21:55:16.709018Z",
     "start_time": "2018-10-10T21:55:16.702856Z"
    }
   },
   "source": [
    "Há inúmeras opções para se editar um gráfico. Apenas como exemplo, esse mesmo gráfico poderia ser plotado como:"
   ]
  },
  {
   "cell_type": "code",
   "execution_count": 25,
   "metadata": {
    "ExecuteTime": {
     "end_time": "2018-10-10T21:59:05.373100Z",
     "start_time": "2018-10-10T21:59:05.230665Z"
    }
   },
   "outputs": [
    {
     "data": {
      "image/png": "[encoded data removed]",
      "text/plain": [
       "<Figure size 432x288 with 1 Axes>"
      ]
     },
     "metadata": {
      "needs_background": "light"
     },
     "output_type": "display_data"
    }
   ],
   "source": [
    "plt.plot(x, x**2, 'o', markerfacecolor='w', c='Navy',\n",
    "         markersize=7, markeredgewidth=3, label='Valores de f(x)')\n",
    "\n",
    "plt.xlabel('x')\n",
    "plt.ylabel('f(x)')\n",
    "plt.xlim(0, 12)\n",
    "plt.ylim(0, 120)\n",
    "\n",
    "\n",
    "plt.legend()\n",
    "\n",
    "plt.grid()\n",
    "plt.show()"
   ]
  },
  {
   "cell_type": "markdown",
   "metadata": {},
   "source": [
    "### Pandas"
   ]
  },
  {
   "cell_type": "markdown",
   "metadata": {},
   "source": [
    "Por fim, uma última biblioteca extremamente interessante é o pandas. Essa biblioteca permite organizar os dados em planilhas. Isso nos facilita a visualização de certos dados. Para tanto iremos voltar ao exemplo da liga de alumínio 6061, Alumina [[4](#Alumina)], Polietileno de alta densidade [[5](#HDPE)] e Vidro de Janela[[6](#Sodalime)]."
   ]
  },
  {
   "cell_type": "code",
   "execution_count": 26,
   "metadata": {
    "ExecuteTime": {
     "end_time": "2018-10-24T14:14:59.995879Z",
     "start_time": "2018-10-24T14:14:43.200857Z"
    }
   },
   "outputs": [],
   "source": [
    "import pandas as pd\n",
    "\n",
    "hk = [112, 1450, 337, 570]\n",
    "E = [69, 370, 1, 70]\n",
    "G = [26, 150, 0.75, 29]\n",
    "sigma_f = [310, 370, 80, 41]\n",
    "T_f = [650, 2040, 130, 570]\n",
    "k = [170, 30, 0.5, 1.1]\n",
    "alpha = [24, 7.3, 120, 9]"
   ]
  },
  {
   "cell_type": "code",
   "execution_count": 27,
   "metadata": {
    "ExecuteTime": {
     "end_time": "2018-10-24T14:20:10.552893Z",
     "start_time": "2018-10-24T14:20:10.537358Z"
    },
    "scrolled": true
   },
   "outputs": [
    {
     "data": {
      "text/html": [
       "<div>\n",
       "<style scoped>\n",
       "    .dataframe tbody tr th:only-of-type {\n",
       "        vertical-align: middle;\n",
       "    }\n",
       "\n",
       "    .dataframe tbody tr th {\n",
       "        vertical-align: top;\n",
       "    }\n",
       "\n",
       "    .dataframe thead th {\n",
       "        text-align: right;\n",
       "    }\n",
       "</style>\n",
       "<table border=\"1\" class=\"dataframe\">\n",
       "  <thead>\n",
       "    <tr style=\"text-align: right;\">\n",
       "      <th></th>\n",
       "      <th>Dureza Knoop</th>\n",
       "      <th>Módulo de Young</th>\n",
       "      <th>Módulo de Cisalhamento</th>\n",
       "      <th>Resistência Mecânica</th>\n",
       "      <th>Temperatura de Fusão/Tg</th>\n",
       "      <th>Condutividade Térmica</th>\n",
       "      <th>Coeficiente de Expansão</th>\n",
       "    </tr>\n",
       "  </thead>\n",
       "  <tbody>\n",
       "    <tr>\n",
       "      <th>Alumínio 6061</th>\n",
       "      <td>112</td>\n",
       "      <td>69</td>\n",
       "      <td>26.00</td>\n",
       "      <td>310</td>\n",
       "      <td>650</td>\n",
       "      <td>170.0</td>\n",
       "      <td>24.0</td>\n",
       "    </tr>\n",
       "    <tr>\n",
       "      <th>Alumina</th>\n",
       "      <td>1450</td>\n",
       "      <td>370</td>\n",
       "      <td>150.00</td>\n",
       "      <td>370</td>\n",
       "      <td>2040</td>\n",
       "      <td>30.0</td>\n",
       "      <td>7.3</td>\n",
       "    </tr>\n",
       "    <tr>\n",
       "      <th>HDPE</th>\n",
       "      <td>337</td>\n",
       "      <td>1</td>\n",
       "      <td>0.75</td>\n",
       "      <td>80</td>\n",
       "      <td>130</td>\n",
       "      <td>0.5</td>\n",
       "      <td>120.0</td>\n",
       "    </tr>\n",
       "    <tr>\n",
       "      <th>Vidro de Janela</th>\n",
       "      <td>570</td>\n",
       "      <td>70</td>\n",
       "      <td>29.00</td>\n",
       "      <td>41</td>\n",
       "      <td>570</td>\n",
       "      <td>1.1</td>\n",
       "      <td>9.0</td>\n",
       "    </tr>\n",
       "  </tbody>\n",
       "</table>\n",
       "</div>"
      ],
      "text/plain": [
       "                 Dureza Knoop  Módulo de Young  Módulo de Cisalhamento  \\\n",
       "Alumínio 6061             112               69                   26.00   \n",
       "Alumina                  1450              370                  150.00   \n",
       "HDPE                      337                1                    0.75   \n",
       "Vidro de Janela           570               70                   29.00   \n",
       "\n",
       "                 Resistência Mecânica  Temperatura de Fusão/Tg  \\\n",
       "Alumínio 6061                     310                      650   \n",
       "Alumina                           370                     2040   \n",
       "HDPE                               80                      130   \n",
       "Vidro de Janela                    41                      570   \n",
       "\n",
       "                 Condutividade Térmica  Coeficiente de Expansão  \n",
       "Alumínio 6061                    170.0                     24.0  \n",
       "Alumina                           30.0                      7.3  \n",
       "HDPE                               0.5                    120.0  \n",
       "Vidro de Janela                    1.1                      9.0  "
      ]
     },
     "execution_count": 27,
     "metadata": {},
     "output_type": "execute_result"
    }
   ],
   "source": [
    "planilha = pd.DataFrame({'Dureza Knoop': hk, 'Módulo de Young': E,\n",
    "                         'Módulo de Cisalhamento': G, \n",
    "                         'Resistência Mecânica': sigma_f,\n",
    "                         'Temperatura de Fusão/Tg': T_f, 'Condutividade Térmica': k,\n",
    "                         'Coeficiente de Expansão': alpha},\n",
    "                        index=['Alumínio 6061', 'Alumina',\n",
    "                               'HDPE', 'Vidro de Janela'])\n",
    "planilha"
   ]
  },
  {
   "cell_type": "code",
   "execution_count": 28,
   "metadata": {
    "ExecuteTime": {
     "end_time": "2018-10-10T22:31:50.214757Z",
     "start_time": "2018-10-10T22:31:49.573438Z"
    },
    "scrolled": true
   },
   "outputs": [
    {
     "data": {
      "image/png": "[encoded data removed]",
      "text/plain": [
       "<Figure size 468x288 with 1 Axes>"
      ]
     },
     "metadata": {
      "needs_background": "light"
     },
     "output_type": "display_data"
    }
   ],
   "source": [
    "plt.style.use('seaborn-colorblind')\n",
    "planilha.plot(kind='bar', zorder=3, logy=True, figsize=(6.5, 4))\n",
    "plt.xticks(rotation=0)\n",
    "\n",
    "plt.ylabel('Propriedades [-]')\n",
    "plt.ylim(1, 1e5)\n",
    "plt.legend(loc='upper center', ncol=2)\n",
    "\n",
    "plt.show()"
   ]
  },
  {
   "cell_type": "markdown",
   "metadata": {},
   "source": [
    "# Exercício"
   ]
  },
  {
   "cell_type": "markdown",
   "metadata": {},
   "source": [
    "Defina uma função que tenha como input a variável planilha e retorne as médias das colunas."
   ]
  },
  {
   "cell_type": "markdown",
   "metadata": {},
   "source": [
    "## Resolução com o conhecimento adquirido até agora"
   ]
  },
  {
   "cell_type": "code",
   "execution_count": 29,
   "metadata": {
    "ExecuteTime": {
     "end_time": "2018-10-24T14:17:08.480354Z",
     "start_time": "2018-10-24T14:17:08.472696Z"
    }
   },
   "outputs": [],
   "source": [
    "def media_planilha(df):\n",
    "    propriedades = ['Dureza Knoop', 'Módulo de Young', 'Módulo de Cisalhamento',\n",
    "       'Resistência Mecânica', 'Temperatura de Fusão/Tg',\n",
    "       'Condutividade Térmica', 'Coeficiente de Expansão']\n",
    "    médias = []\n",
    "    for propriedade in propriedades:\n",
    "        médias = médias + [np.mean(df[propriedade])]\n",
    "    return médias"
   ]
  },
  {
   "cell_type": "code",
   "execution_count": 30,
   "metadata": {
    "ExecuteTime": {
     "end_time": "2018-10-24T14:17:19.466418Z",
     "start_time": "2018-10-24T14:17:19.459106Z"
    }
   },
   "outputs": [
    {
     "data": {
      "text/plain": [
       "[617.25, 127.5, 51.4375, 200.25, 847.5, 50.4, 40.075]"
      ]
     },
     "execution_count": 30,
     "metadata": {},
     "output_type": "execute_result"
    }
   ],
   "source": [
    "media_planilha(planilha)"
   ]
  },
  {
   "cell_type": "code",
   "execution_count": 31,
   "metadata": {
    "ExecuteTime": {
     "end_time": "2018-10-24T15:42:31.564641Z",
     "start_time": "2018-10-24T15:42:31.556574Z"
    }
   },
   "outputs": [
    {
     "data": {
      "text/plain": [
       "Index(['Dureza Knoop', 'Módulo de Young', 'Módulo de Cisalhamento',\n",
       "       'Resistência Mecânica', 'Temperatura de Fusão/Tg',\n",
       "       'Condutividade Térmica', 'Coeficiente de Expansão'],\n",
       "      dtype='object')"
      ]
     },
     "execution_count": 31,
     "metadata": {},
     "output_type": "execute_result"
    }
   ],
   "source": [
    "planilha.columns"
   ]
  },
  {
   "cell_type": "markdown",
   "metadata": {},
   "source": [
    "## Resolução mais elaborada"
   ]
  },
  {
   "cell_type": "code",
   "execution_count": 32,
   "metadata": {
    "ExecuteTime": {
     "end_time": "2018-10-24T14:23:08.222923Z",
     "start_time": "2018-10-24T14:23:08.216969Z"
    }
   },
   "outputs": [],
   "source": [
    "def media_elaborada_planilha(df):\n",
    "    médias = []\n",
    "    for coluna in df.columns:\n",
    "        médias.append(np.mean(df[coluna]))\n",
    "    return médias"
   ]
  },
  {
   "cell_type": "code",
   "execution_count": 33,
   "metadata": {
    "ExecuteTime": {
     "end_time": "2018-10-24T14:23:08.706937Z",
     "start_time": "2018-10-24T14:23:08.701420Z"
    }
   },
   "outputs": [
    {
     "data": {
      "text/plain": [
       "[617.25, 127.5, 51.4375, 200.25, 847.5, 50.4, 40.075]"
      ]
     },
     "execution_count": 33,
     "metadata": {},
     "output_type": "execute_result"
    }
   ],
   "source": [
    "media_elaborada_planilha(planilha)"
   ]
  },
  {
   "cell_type": "markdown",
   "metadata": {},
   "source": [
    "## Usando a função do pandas"
   ]
  },
  {
   "cell_type": "code",
   "execution_count": 34,
   "metadata": {
    "ExecuteTime": {
     "end_time": "2018-10-24T14:18:27.430561Z",
     "start_time": "2018-10-24T14:18:27.422785Z"
    }
   },
   "outputs": [
    {
     "data": {
      "text/plain": [
       "Dureza Knoop               617.2500\n",
       "Módulo de Young            127.5000\n",
       "Módulo de Cisalhamento      51.4375\n",
       "Resistência Mecânica       200.2500\n",
       "Temperatura de Fusão/Tg    847.5000\n",
       "Condutividade Térmica       50.4000\n",
       "Coeficiente de Expansão     40.0750\n",
       "dtype: float64"
      ]
     },
     "execution_count": 34,
     "metadata": {},
     "output_type": "execute_result"
    }
   ],
   "source": [
    "planilha.mean()"
   ]
  },
  {
   "cell_type": "code",
   "execution_count": 35,
   "metadata": {
    "ExecuteTime": {
     "end_time": "2018-10-24T14:22:06.086847Z",
     "start_time": "2018-10-24T14:22:06.080670Z"
    }
   },
   "outputs": [
    {
     "data": {
      "text/plain": [
       "Dureza Knoop               585.810763\n",
       "Módulo de Young            164.860547\n",
       "Módulo de Cisalhamento      66.918599\n",
       "Resistência Mecânica       163.992632\n",
       "Temperatura de Fusão/Tg    827.219237\n",
       "Condutividade Térmica       80.913163\n",
       "Coeficiente de Expansão     53.809130\n",
       "dtype: float64"
      ]
     },
     "execution_count": 35,
     "metadata": {},
     "output_type": "execute_result"
    }
   ],
   "source": [
    "planilha.std()"
   ]
  },
  {
   "cell_type": "code",
   "execution_count": 36,
   "metadata": {
    "ExecuteTime": {
     "end_time": "2018-10-24T15:45:11.563514Z",
     "start_time": "2018-10-24T15:45:11.528490Z"
    }
   },
   "outputs": [
    {
     "data": {
      "text/html": [
       "<div>\n",
       "<style scoped>\n",
       "    .dataframe tbody tr th:only-of-type {\n",
       "        vertical-align: middle;\n",
       "    }\n",
       "\n",
       "    .dataframe tbody tr th {\n",
       "        vertical-align: top;\n",
       "    }\n",
       "\n",
       "    .dataframe thead th {\n",
       "        text-align: right;\n",
       "    }\n",
       "</style>\n",
       "<table border=\"1\" class=\"dataframe\">\n",
       "  <thead>\n",
       "    <tr style=\"text-align: right;\">\n",
       "      <th></th>\n",
       "      <th>Dureza Knoop</th>\n",
       "      <th>Módulo de Young</th>\n",
       "      <th>Módulo de Cisalhamento</th>\n",
       "      <th>Resistência Mecânica</th>\n",
       "      <th>Temperatura de Fusão/Tg</th>\n",
       "      <th>Condutividade Térmica</th>\n",
       "      <th>Coeficiente de Expansão</th>\n",
       "    </tr>\n",
       "  </thead>\n",
       "  <tbody>\n",
       "    <tr>\n",
       "      <th>count</th>\n",
       "      <td>4.000000</td>\n",
       "      <td>4.000000</td>\n",
       "      <td>4.000000</td>\n",
       "      <td>4.000000</td>\n",
       "      <td>4.000000</td>\n",
       "      <td>4.000000</td>\n",
       "      <td>4.00000</td>\n",
       "    </tr>\n",
       "    <tr>\n",
       "      <th>mean</th>\n",
       "      <td>617.250000</td>\n",
       "      <td>127.500000</td>\n",
       "      <td>51.437500</td>\n",
       "      <td>200.250000</td>\n",
       "      <td>847.500000</td>\n",
       "      <td>50.400000</td>\n",
       "      <td>40.07500</td>\n",
       "    </tr>\n",
       "    <tr>\n",
       "      <th>std</th>\n",
       "      <td>585.810763</td>\n",
       "      <td>164.860547</td>\n",
       "      <td>66.918599</td>\n",
       "      <td>163.992632</td>\n",
       "      <td>827.219237</td>\n",
       "      <td>80.913163</td>\n",
       "      <td>53.80913</td>\n",
       "    </tr>\n",
       "    <tr>\n",
       "      <th>min</th>\n",
       "      <td>112.000000</td>\n",
       "      <td>1.000000</td>\n",
       "      <td>0.750000</td>\n",
       "      <td>41.000000</td>\n",
       "      <td>130.000000</td>\n",
       "      <td>0.500000</td>\n",
       "      <td>7.30000</td>\n",
       "    </tr>\n",
       "    <tr>\n",
       "      <th>25%</th>\n",
       "      <td>280.750000</td>\n",
       "      <td>52.000000</td>\n",
       "      <td>19.687500</td>\n",
       "      <td>70.250000</td>\n",
       "      <td>460.000000</td>\n",
       "      <td>0.950000</td>\n",
       "      <td>8.57500</td>\n",
       "    </tr>\n",
       "    <tr>\n",
       "      <th>50%</th>\n",
       "      <td>453.500000</td>\n",
       "      <td>69.500000</td>\n",
       "      <td>27.500000</td>\n",
       "      <td>195.000000</td>\n",
       "      <td>610.000000</td>\n",
       "      <td>15.550000</td>\n",
       "      <td>16.50000</td>\n",
       "    </tr>\n",
       "    <tr>\n",
       "      <th>75%</th>\n",
       "      <td>790.000000</td>\n",
       "      <td>145.000000</td>\n",
       "      <td>59.250000</td>\n",
       "      <td>325.000000</td>\n",
       "      <td>997.500000</td>\n",
       "      <td>65.000000</td>\n",
       "      <td>48.00000</td>\n",
       "    </tr>\n",
       "    <tr>\n",
       "      <th>max</th>\n",
       "      <td>1450.000000</td>\n",
       "      <td>370.000000</td>\n",
       "      <td>150.000000</td>\n",
       "      <td>370.000000</td>\n",
       "      <td>2040.000000</td>\n",
       "      <td>170.000000</td>\n",
       "      <td>120.00000</td>\n",
       "    </tr>\n",
       "  </tbody>\n",
       "</table>\n",
       "</div>"
      ],
      "text/plain": [
       "       Dureza Knoop  Módulo de Young  Módulo de Cisalhamento  \\\n",
       "count      4.000000         4.000000                4.000000   \n",
       "mean     617.250000       127.500000               51.437500   \n",
       "std      585.810763       164.860547               66.918599   \n",
       "min      112.000000         1.000000                0.750000   \n",
       "25%      280.750000        52.000000               19.687500   \n",
       "50%      453.500000        69.500000               27.500000   \n",
       "75%      790.000000       145.000000               59.250000   \n",
       "max     1450.000000       370.000000              150.000000   \n",
       "\n",
       "       Resistência Mecânica  Temperatura de Fusão/Tg  Condutividade Térmica  \\\n",
       "count              4.000000                 4.000000               4.000000   \n",
       "mean             200.250000               847.500000              50.400000   \n",
       "std              163.992632               827.219237              80.913163   \n",
       "min               41.000000               130.000000               0.500000   \n",
       "25%               70.250000               460.000000               0.950000   \n",
       "50%              195.000000               610.000000              15.550000   \n",
       "75%              325.000000               997.500000              65.000000   \n",
       "max              370.000000              2040.000000             170.000000   \n",
       "\n",
       "       Coeficiente de Expansão  \n",
       "count                  4.00000  \n",
       "mean                  40.07500  \n",
       "std                   53.80913  \n",
       "min                    7.30000  \n",
       "25%                    8.57500  \n",
       "50%                   16.50000  \n",
       "75%                   48.00000  \n",
       "max                  120.00000  "
      ]
     },
     "execution_count": 36,
     "metadata": {},
     "output_type": "execute_result"
    }
   ],
   "source": [
    "planilha.describe()"
   ]
  },
  {
   "cell_type": "markdown",
   "metadata": {},
   "source": [
    "Adicionando os valores na planilha:"
   ]
  },
  {
   "cell_type": "code",
   "execution_count": 37,
   "metadata": {
    "ExecuteTime": {
     "end_time": "2018-10-24T15:46:28.488864Z",
     "start_time": "2018-10-24T15:46:28.473347Z"
    }
   },
   "outputs": [
    {
     "data": {
      "text/html": [
       "<div>\n",
       "<style scoped>\n",
       "    .dataframe tbody tr th:only-of-type {\n",
       "        vertical-align: middle;\n",
       "    }\n",
       "\n",
       "    .dataframe tbody tr th {\n",
       "        vertical-align: top;\n",
       "    }\n",
       "\n",
       "    .dataframe thead th {\n",
       "        text-align: right;\n",
       "    }\n",
       "</style>\n",
       "<table border=\"1\" class=\"dataframe\">\n",
       "  <thead>\n",
       "    <tr style=\"text-align: right;\">\n",
       "      <th></th>\n",
       "      <th>Dureza Knoop</th>\n",
       "      <th>Módulo de Young</th>\n",
       "      <th>Módulo de Cisalhamento</th>\n",
       "      <th>Resistência Mecânica</th>\n",
       "      <th>Temperatura de Fusão/Tg</th>\n",
       "      <th>Condutividade Térmica</th>\n",
       "      <th>Coeficiente de Expansão</th>\n",
       "    </tr>\n",
       "  </thead>\n",
       "  <tbody>\n",
       "    <tr>\n",
       "      <th>Alumínio 6061</th>\n",
       "      <td>112.000000</td>\n",
       "      <td>69.000000</td>\n",
       "      <td>26.000000</td>\n",
       "      <td>310.000000</td>\n",
       "      <td>650.000000</td>\n",
       "      <td>170.000000</td>\n",
       "      <td>24.000000</td>\n",
       "    </tr>\n",
       "    <tr>\n",
       "      <th>Alumina</th>\n",
       "      <td>1450.000000</td>\n",
       "      <td>370.000000</td>\n",
       "      <td>150.000000</td>\n",
       "      <td>370.000000</td>\n",
       "      <td>2040.000000</td>\n",
       "      <td>30.000000</td>\n",
       "      <td>7.300000</td>\n",
       "    </tr>\n",
       "    <tr>\n",
       "      <th>HDPE</th>\n",
       "      <td>337.000000</td>\n",
       "      <td>1.000000</td>\n",
       "      <td>0.750000</td>\n",
       "      <td>80.000000</td>\n",
       "      <td>130.000000</td>\n",
       "      <td>0.500000</td>\n",
       "      <td>120.000000</td>\n",
       "    </tr>\n",
       "    <tr>\n",
       "      <th>Vidro de Janela</th>\n",
       "      <td>570.000000</td>\n",
       "      <td>70.000000</td>\n",
       "      <td>29.000000</td>\n",
       "      <td>41.000000</td>\n",
       "      <td>570.000000</td>\n",
       "      <td>1.100000</td>\n",
       "      <td>9.000000</td>\n",
       "    </tr>\n",
       "    <tr>\n",
       "      <th>Médias</th>\n",
       "      <td>617.250000</td>\n",
       "      <td>127.500000</td>\n",
       "      <td>51.437500</td>\n",
       "      <td>200.250000</td>\n",
       "      <td>847.500000</td>\n",
       "      <td>50.400000</td>\n",
       "      <td>40.075000</td>\n",
       "    </tr>\n",
       "    <tr>\n",
       "      <th>Desvio Padrão</th>\n",
       "      <td>507.327003</td>\n",
       "      <td>142.773422</td>\n",
       "      <td>57.953207</td>\n",
       "      <td>142.021785</td>\n",
       "      <td>716.392874</td>\n",
       "      <td>70.072855</td>\n",
       "      <td>46.600074</td>\n",
       "    </tr>\n",
       "  </tbody>\n",
       "</table>\n",
       "</div>"
      ],
      "text/plain": [
       "                 Dureza Knoop  Módulo de Young  Módulo de Cisalhamento  \\\n",
       "Alumínio 6061      112.000000        69.000000               26.000000   \n",
       "Alumina           1450.000000       370.000000              150.000000   \n",
       "HDPE               337.000000         1.000000                0.750000   \n",
       "Vidro de Janela    570.000000        70.000000               29.000000   \n",
       "Médias             617.250000       127.500000               51.437500   \n",
       "Desvio Padrão      507.327003       142.773422               57.953207   \n",
       "\n",
       "                 Resistência Mecânica  Temperatura de Fusão/Tg  \\\n",
       "Alumínio 6061              310.000000               650.000000   \n",
       "Alumina                    370.000000              2040.000000   \n",
       "HDPE                        80.000000               130.000000   \n",
       "Vidro de Janela             41.000000               570.000000   \n",
       "Médias                     200.250000               847.500000   \n",
       "Desvio Padrão              142.021785               716.392874   \n",
       "\n",
       "                 Condutividade Térmica  Coeficiente de Expansão  \n",
       "Alumínio 6061               170.000000                24.000000  \n",
       "Alumina                      30.000000                 7.300000  \n",
       "HDPE                          0.500000               120.000000  \n",
       "Vidro de Janela               1.100000                 9.000000  \n",
       "Médias                       50.400000                40.075000  \n",
       "Desvio Padrão                70.072855                46.600074  "
      ]
     },
     "execution_count": 37,
     "metadata": {},
     "output_type": "execute_result"
    }
   ],
   "source": [
    "planilha.loc['Médias'] = planilha.mean()\n",
    "planilha.loc['Desvio Padrão'] = planilha.std()\n",
    "\n",
    "planilha"
   ]
  },
  {
   "cell_type": "markdown",
   "metadata": {},
   "source": [
    "# Referências"
   ]
  },
  {
   "cell_type": "markdown",
   "metadata": {},
   "source": [
    "<a name=\"proglit\">1</a>: https://pt.wikipedia.org/wiki/Programa%C3%A7%C3%A3o_liter%C3%A1ria\n",
    "\n",
    "<a name=\"comboy\">2</a>: https://softwareengineering.stackexchange.com/a/7285\n",
    "\n",
    "<a name=\"6601\">3</a>: https://www.makeitfrom.com/material-properties/6061-T6-Aluminum\n",
    "\n",
    "<a name=\"Alumina\">4</a> :https://www.makeitfrom.com/material-properties/99-Percent-Purity-Alumina-ASTM-D2442-Type-IV-IEC-60672-Type-C-799\n",
    "\n",
    "\n",
    "<a name=\"HDPE\">5</a>: http://www.designerdata.nl/plastics/thermo+plastics/HDPE\n",
    "\n",
    "<a name=\"Sodalime\">6</a>: https://www.makeitfrom.com/material-properties/Soda-Lime-Float-Glass"
   ]
  },
  {
   "cell_type": "code",
   "execution_count": null,
   "metadata": {},
   "outputs": [],
   "source": []
  }
 ],
 "metadata": {
  "hide_input": false,
  "kernel_info": {
   "name": "python3"
  },
  "kernelspec": {
   "display_name": "Python 3",
   "language": "python",
   "name": "python3"
  },
  "language_info": {
   "codemirror_mode": {
    "name": "ipython",
    "version": 3
   },
   "file_extension": ".py",
   "mimetype": "text/x-python",
   "name": "python",
   "nbconvert_exporter": "python",
   "pygments_lexer": "ipython3",
   "version": "3.8.3"
  },
  "nteract": {
   "version": "0.9.1"
  },
  "toc": {
   "nav_menu": {},
   "number_sections": true,
   "sideBar": true,
   "skip_h1_title": false,
   "title_cell": "Table of Contents",
   "title_sidebar": "Contents",
   "toc_cell": false,
   "toc_position": {},
   "toc_section_display": true,
   "toc_window_display": false
  },
  "varInspector": {
   "cols": {
    "lenName": 16,
    "lenType": 16,
    "lenVar": 40
   },
   "kernels_config": {
    "python": {
     "delete_cmd_postfix": "",
     "delete_cmd_prefix": "del ",
     "library": "var_list.py",
     "varRefreshCmd": "print(var_dic_list())"
    },
    "r": {
     "delete_cmd_postfix": ") ",
     "delete_cmd_prefix": "rm(",
     "library": "var_list.r",
     "varRefreshCmd": "cat(var_dic_list()) "
    }
   },
   "types_to_exclude": [
    "module",
    "function",
    "builtin_function_or_method",
    "instance",
    "_Feature"
   ],
   "window_display": false
  }
 },
 "nbformat": 4,
 "nbformat_minor": 4
}
