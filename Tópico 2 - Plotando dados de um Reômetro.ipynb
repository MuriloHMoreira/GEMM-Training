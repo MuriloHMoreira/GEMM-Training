{
 "cells": [
  {
   "cell_type": "markdown",
   "metadata": {},
   "source": [
    "# Microrevisão de reologia"
   ]
  },
  {
   "cell_type": "markdown",
   "metadata": {},
   "source": [
    "Reologia pode ser descrita como o estudo das deformações e dos fluxos de fluídos complexos (Polímeros, suspensões, pastas, géis...). Os fluídos considerados simples, por outro lado, são estudados na área de fluido-dinâmica [[1](#Rheology)]. \n",
    "\n",
    "É uma disciplina extremamente complexa onde a maioria dos requisitos matemáticos e físicos não são facilmente entendidos pelos alunos. Na prática, é um nicho do conhecimento perigoso pois raras vezes seu conhecimento é testado por alguém que realmente é especialista na área e portanto é fundamental que as análises sejam claras, objetivas e diretas."
   ]
  },
  {
   "cell_type": "markdown",
   "metadata": {},
   "source": [
    "## Tipos de substâncias"
   ]
  },
  {
   "cell_type": "markdown",
   "metadata": {},
   "source": [
    "Em geral, as substâncias podem ter distintos comportamentos quando analisado a sua curva de tensão de cisalhamento por taxa de cisalhamento. Os principais tipos são mostrados na Figura 1."
   ]
  },
  {
   "cell_type": "markdown",
   "metadata": {},
   "source": [
    "![Types of Fluids](./images/types_of_fluids.png \"Tipos de fluidos\")\n",
    "\n",
    "**Figura 1:** Tipos de fluídos identificados através de uma curva Tensão de Cisalhamento $\\tau$, por Taxa de cisalhamento, $\\gamma$."
   ]
  },
  {
   "cell_type": "markdown",
   "metadata": {},
   "source": [
    "## Modelos do comportamento dos fluídos"
   ]
  },
  {
   "cell_type": "markdown",
   "metadata": {},
   "source": [
    "### Lei das Potências"
   ]
  },
  {
   "cell_type": "markdown",
   "metadata": {},
   "source": [
    "Quando se trata de resultados experimentais, a classificação de um fluído em algum dos grupos já apresentados não é tão simples e direta. Muitas vezes o comportamento de uma substância é uma sobreposição de tais comportamentos ideais e dessa forma é necessário ter um modelo matemático para poder correlacionar os resultados experimentais com os comportamentos e entidades físicas que regem o sistema. \n",
    "\n",
    "Um desses modelos é o modelo da Lei das Potências que descreve que a relação entre a Tensão de Cisalhamento, $\\tau$ e a Taxa de Cisalhamento, $\\dot{\\gamma}$ segue o seguinte modelo:\n",
    "\n",
    "\\begin{equation}\n",
    "\\tau = K \\dot{\\gamma}^n\n",
    "\\end{equation}"
   ]
  },
  {
   "cell_type": "markdown",
   "metadata": {},
   "source": [
    "Com tal modelo, podemos representar fluídos pseudoplásticos (n<1), dilatantes (n>1) ou newtonianos (n=1) dependendo do valor de n. "
   ]
  },
  {
   "cell_type": "markdown",
   "metadata": {},
   "source": [
    "### Fluído de Herschel–Bulkley"
   ]
  },
  {
   "cell_type": "markdown",
   "metadata": {},
   "source": [
    "O mais complicado desse modelo é relembrar o seu nome. A sua forma é muito próxima do modelo da lei das potências, porém adiciona-se um termo que permite a representação de um fluído de Bingham.\n",
    "\n",
    "\n",
    "\\begin{equation}\n",
    "\\tau = \\tau_0 + k \\dot{\\gamma}^n\n",
    "\\end{equation}"
   ]
  },
  {
   "cell_type": "markdown",
   "metadata": {},
   "source": [
    "## Reômetro de Vane"
   ]
  },
  {
   "cell_type": "markdown",
   "metadata": {},
   "source": [
    "O Rêometro de Vane é um equipamento que obtém os valores de tensão de cisalhamento através do torque necessário para rotacionar as pás a uma dada velocidade (proporcional a taxa de cisalhamento aplicada ao sistema). Essa geometria consiste em 4 pás perpendiculares e é apresentada na Figura 1."
   ]
  },
  {
   "cell_type": "markdown",
   "metadata": {},
   "source": [
    "![Vane Geometry](./images/vane1.png \"Geometria de Vane\")\n",
    "**Figura 2:** Geometria do reômetro de vane."
   ]
  },
  {
   "cell_type": "markdown",
   "metadata": {},
   "source": [
    "![Vane Analysis](./images/vane2.png \"Ensaio de Vane\")\n",
    "\n",
    "**Figura 3:** Ensaio usando um reômetro de Vane."
   ]
  },
  {
   "cell_type": "markdown",
   "metadata": {},
   "source": [
    "Para a análise do case study iremos fornecer ao rêometro um ciclo que irá aumentar a taxa de cisalhamento de $0 s^{-1}$ até $500 s^{-1}$\n",
    "\n",
    "![Flow Curve](./images/flowcurve.png \"Curva do material\")\n",
    "\n",
    "**Figura 4:** Ensaio usando um reômetro de Vane."
   ]
  },
  {
   "cell_type": "markdown",
   "metadata": {},
   "source": [
    "## Case study: Envelhecimento de uma bentonita"
   ]
  },
  {
   "cell_type": "markdown",
   "metadata": {},
   "source": [
    "Os dados que trataremos a seguir são de diferentes amostras de Bentonitas, um tipo de argila com uma microestrutura tabular e dimensões submicrométricas. Tais características conferem plasticidade a esse material quando misturado com água. Os dados se tratam de uma argila Chinesa com diferentes quantidades de argila em água (30 wt%, 40 wt% e 50 wt%) em dois tempos (após a mistura e após duas semanas).\n",
    "\n",
    "Planilha de experimentos:\n",
    "\n",
    "\n",
    "| Fração Mássica   | $t_0$ = 0 min | $t_1$ = 2 semanas |\n",
    "|------|---------------|-------------------|\n",
    "|30 wt%|       Ok      |         Ok        |\n",
    "|40 wt%|       Ok      |         Ok        |\n",
    "|50 wt%|       Ok      |         X         |\n",
    "\n",
    "Os experimento com 50 wt% após duas semanas se tornou tão viscoso que não foi possível realizar medidas devido a dificuldade em preencher o barril evitando bolhas."
   ]
  },
  {
   "cell_type": "markdown",
   "metadata": {},
   "source": [
    "# Pandas para ler os dados"
   ]
  },
  {
   "cell_type": "markdown",
   "metadata": {},
   "source": [
    "Primeiramente iremos carregar os dados usando o pandas."
   ]
  },
  {
   "cell_type": "code",
   "execution_count": 1,
   "metadata": {
    "ExecuteTime": {
     "end_time": "2021-04-29T11:45:19.399910Z",
     "start_time": "2021-04-29T11:45:18.766476Z"
    }
   },
   "outputs": [],
   "source": [
    "import pandas as pd"
   ]
  },
  {
   "cell_type": "code",
   "execution_count": 2,
   "metadata": {
    "ExecuteTime": {
     "end_time": "2021-04-29T11:45:19.430827Z",
     "start_time": "2021-04-29T11:45:19.401905Z"
    }
   },
   "outputs": [],
   "source": [
    "t0_30 = pd.read_csv('./rheometer data/t0 - 30 wt%.csv', header=0, delimiter=',')\n",
    "t0_40 = pd.read_csv('./rheometer data/t0 - 40 wt%.csv', header=0, delimiter=',')\n",
    "t0_50_1 = pd.read_csv('./rheometer data/t0 - 50 wt% - 1.csv', header=0, delimiter=',')\n",
    "t0_50_2 = pd.read_csv('./rheometer data/t0 - 50 wt% - 2.csv', header=0, delimiter=',')\n",
    "\n",
    "t1_30 = pd.read_csv('./rheometer data/t1 - 30 wt%.csv', header=0, delimiter=',')\n",
    "t1_40 = pd.read_csv('./rheometer data/t1 - 40 wt%.csv', header=0, delimiter=',')\n"
   ]
  },
  {
   "cell_type": "code",
   "execution_count": 3,
   "metadata": {
    "ExecuteTime": {
     "end_time": "2021-04-29T11:45:19.478215Z",
     "start_time": "2021-04-29T11:45:19.433819Z"
    }
   },
   "outputs": [
    {
     "data": {
      "text/html": [
       "<div>\n",
       "<style scoped>\n",
       "    .dataframe tbody tr th:only-of-type {\n",
       "        vertical-align: middle;\n",
       "    }\n",
       "\n",
       "    .dataframe tbody tr th {\n",
       "        vertical-align: top;\n",
       "    }\n",
       "\n",
       "    .dataframe thead th {\n",
       "        text-align: right;\n",
       "    }\n",
       "</style>\n",
       "<table border=\"1\" class=\"dataframe\">\n",
       "  <thead>\n",
       "    <tr style=\"text-align: right;\">\n",
       "      <th></th>\n",
       "      <th>Shear stress(Pa)</th>\n",
       "      <th>Shear rate(s-¹)</th>\n",
       "      <th>Shear viscosity(Pa s)</th>\n",
       "      <th>Angular velocity(rad/s)</th>\n",
       "      <th>Steady state</th>\n",
       "    </tr>\n",
       "  </thead>\n",
       "  <tbody>\n",
       "    <tr>\n",
       "      <th>0</th>\n",
       "      <td>0.2104</td>\n",
       "      <td>1.214</td>\n",
       "      <td>0.1732</td>\n",
       "      <td>0.1053</td>\n",
       "      <td>0.9594</td>\n",
       "    </tr>\n",
       "    <tr>\n",
       "      <th>1</th>\n",
       "      <td>0.2543</td>\n",
       "      <td>1.529</td>\n",
       "      <td>0.1664</td>\n",
       "      <td>0.1325</td>\n",
       "      <td>0.9570</td>\n",
       "    </tr>\n",
       "    <tr>\n",
       "      <th>2</th>\n",
       "      <td>0.3122</td>\n",
       "      <td>1.924</td>\n",
       "      <td>0.1622</td>\n",
       "      <td>0.1668</td>\n",
       "      <td>0.9533</td>\n",
       "    </tr>\n",
       "    <tr>\n",
       "      <th>3</th>\n",
       "      <td>0.3857</td>\n",
       "      <td>2.423</td>\n",
       "      <td>0.1592</td>\n",
       "      <td>0.2100</td>\n",
       "      <td>0.9520</td>\n",
       "    </tr>\n",
       "    <tr>\n",
       "      <th>4</th>\n",
       "      <td>0.4768</td>\n",
       "      <td>3.049</td>\n",
       "      <td>0.1564</td>\n",
       "      <td>0.2643</td>\n",
       "      <td>0.9527</td>\n",
       "    </tr>\n",
       "  </tbody>\n",
       "</table>\n",
       "</div>"
      ],
      "text/plain": [
       "   Shear stress(Pa)  Shear rate(s-¹)  Shear viscosity(Pa s)  \\\n",
       "0            0.2104            1.214                 0.1732   \n",
       "1            0.2543            1.529                 0.1664   \n",
       "2            0.3122            1.924                 0.1622   \n",
       "3            0.3857            2.423                 0.1592   \n",
       "4            0.4768            3.049                 0.1564   \n",
       "\n",
       "   Angular velocity(rad/s)  Steady state  \n",
       "0                   0.1053        0.9594  \n",
       "1                   0.1325        0.9570  \n",
       "2                   0.1668        0.9533  \n",
       "3                   0.2100        0.9520  \n",
       "4                   0.2643        0.9527  "
      ]
     },
     "execution_count": 3,
     "metadata": {},
     "output_type": "execute_result"
    }
   ],
   "source": [
    "t0_30.head()"
   ]
  },
  {
   "cell_type": "code",
   "execution_count": 29,
   "metadata": {
    "ExecuteTime": {
     "end_time": "2021-04-29T12:27:08.408775Z",
     "start_time": "2021-04-29T12:27:08.376772Z"
    }
   },
   "outputs": [
    {
     "data": {
      "text/html": [
       "<div>\n",
       "<style scoped>\n",
       "    .dataframe tbody tr th:only-of-type {\n",
       "        vertical-align: middle;\n",
       "    }\n",
       "\n",
       "    .dataframe tbody tr th {\n",
       "        vertical-align: top;\n",
       "    }\n",
       "\n",
       "    .dataframe thead th {\n",
       "        text-align: right;\n",
       "    }\n",
       "</style>\n",
       "<table border=\"1\" class=\"dataframe\">\n",
       "  <thead>\n",
       "    <tr style=\"text-align: right;\">\n",
       "      <th></th>\n",
       "      <th>Shear stress(Pa)</th>\n",
       "      <th>Shear rate(s-¹)</th>\n",
       "      <th>Shear viscosity(Pa s)</th>\n",
       "      <th>Angular velocity(rad/s)</th>\n",
       "      <th>Steady state</th>\n",
       "    </tr>\n",
       "  </thead>\n",
       "  <tbody>\n",
       "    <tr>\n",
       "      <th>0</th>\n",
       "      <td>27.58</td>\n",
       "      <td>1.225</td>\n",
       "      <td>22.51</td>\n",
       "      <td>0.1062</td>\n",
       "      <td>0.9582</td>\n",
       "    </tr>\n",
       "    <tr>\n",
       "      <th>1</th>\n",
       "      <td>32.34</td>\n",
       "      <td>1.542</td>\n",
       "      <td>20.97</td>\n",
       "      <td>0.1337</td>\n",
       "      <td>0.9860</td>\n",
       "    </tr>\n",
       "    <tr>\n",
       "      <th>2</th>\n",
       "      <td>34.79</td>\n",
       "      <td>1.942</td>\n",
       "      <td>17.92</td>\n",
       "      <td>0.1683</td>\n",
       "      <td>0.9863</td>\n",
       "    </tr>\n",
       "    <tr>\n",
       "      <th>3</th>\n",
       "      <td>37.58</td>\n",
       "      <td>2.444</td>\n",
       "      <td>15.37</td>\n",
       "      <td>0.2119</td>\n",
       "      <td>0.9742</td>\n",
       "    </tr>\n",
       "    <tr>\n",
       "      <th>4</th>\n",
       "      <td>40.42</td>\n",
       "      <td>3.076</td>\n",
       "      <td>13.14</td>\n",
       "      <td>0.2667</td>\n",
       "      <td>0.9599</td>\n",
       "    </tr>\n",
       "  </tbody>\n",
       "</table>\n",
       "</div>"
      ],
      "text/plain": [
       "   Shear stress(Pa)  Shear rate(s-¹)  Shear viscosity(Pa s)  \\\n",
       "0             27.58            1.225                  22.51   \n",
       "1             32.34            1.542                  20.97   \n",
       "2             34.79            1.942                  17.92   \n",
       "3             37.58            2.444                  15.37   \n",
       "4             40.42            3.076                  13.14   \n",
       "\n",
       "   Angular velocity(rad/s)  Steady state  \n",
       "0                   0.1062        0.9582  \n",
       "1                   0.1337        0.9860  \n",
       "2                   0.1683        0.9863  \n",
       "3                   0.2119        0.9742  \n",
       "4                   0.2667        0.9599  "
      ]
     },
     "execution_count": 29,
     "metadata": {},
     "output_type": "execute_result"
    }
   ],
   "source": [
    "t1_30.head()"
   ]
  },
  {
   "cell_type": "markdown",
   "metadata": {},
   "source": [
    "# Matplotlib para plotar"
   ]
  },
  {
   "cell_type": "markdown",
   "metadata": {},
   "source": [
    "Com os dados carregados, iremos plotar as curvas reoógicas com o matplotlib"
   ]
  },
  {
   "cell_type": "code",
   "execution_count": 4,
   "metadata": {
    "ExecuteTime": {
     "end_time": "2021-04-29T11:45:19.803871Z",
     "start_time": "2021-04-29T11:45:19.481208Z"
    }
   },
   "outputs": [],
   "source": [
    "import matplotlib.pyplot as plt"
   ]
  },
  {
   "cell_type": "code",
   "execution_count": 5,
   "metadata": {
    "ExecuteTime": {
     "end_time": "2021-04-29T11:45:20.052558Z",
     "start_time": "2021-04-29T11:45:19.805866Z"
    }
   },
   "outputs": [
    {
     "data": {
      "image/png": "[encoded data removed]",
      "text/plain": [
       "<Figure size 432x288 with 1 Axes>"
      ]
     },
     "metadata": {
      "needs_background": "light"
     },
     "output_type": "display_data"
    }
   ],
   "source": [
    "plt.plot(t0_30['Shear rate(s-¹)'] ,t0_30['Shear stress(Pa)'], c='Navy',\n",
    "         label='teste-t0-30 wt%')\n",
    "\n",
    "plt.plot(t1_30['Shear rate(s-¹)'] ,t1_30['Shear stress(Pa)'], c='Navy',\n",
    "         ls='--', label='t1-30 wt%')\n",
    "\n",
    "\n",
    "plt.plot(t0_40['Shear rate(s-¹)'] ,t0_40['Shear stress(Pa)'], c='Lightskyblue',\n",
    "         label='t0-40 wt%')\n",
    "\n",
    "plt.plot(t1_40['Shear rate(s-¹)'] ,t1_40['Shear stress(Pa)'], c='Lightskyblue',\n",
    "         ls='--', label='t1-40 wt%')\n",
    "\n",
    "\n",
    "plt.plot(t0_50_1['Shear rate(s-¹)'] ,t0_50_1['Shear stress(Pa)'], c='Red',\n",
    "         label='t0-50-1 wt%')\n",
    "\n",
    "plt.plot(t0_50_2['Shear rate(s-¹)'] ,t0_50_2['Shear stress(Pa)'], c='Coral',\n",
    "         label='t0-50-2 wt%')\n",
    "\n",
    "\n",
    "plt.xlim(0, 500)\n",
    "plt.ylim(0, 1200)\n",
    "\n",
    "plt.xlabel('Shear rate (s-¹)')\n",
    "plt.ylabel('Shear stress (Pa)')\n",
    "\n",
    "plt.legend(ncol=3)\n",
    "plt.grid()\n",
    "\n",
    "plt.show()"
   ]
  },
  {
   "cell_type": "markdown",
   "metadata": {},
   "source": [
    "É possível observar que as curvas de composições de 40 wt% após duas semanas e a primeira medida da composição de 50 wt% apresentam um grande número de mudanças de concavidade das curvas. Esse é um claro indício da presença de bolhas o que adiciona um ruído ao resultado, portanto, para a próxima análise (de caráter mais quantitativo) tais composições serão desprezadas."
   ]
  },
  {
   "cell_type": "markdown",
   "metadata": {},
   "source": [
    "# lmfit para fittar"
   ]
  },
  {
   "cell_type": "markdown",
   "metadata": {},
   "source": [
    "## Como usar o lmfit"
   ]
  },
  {
   "cell_type": "markdown",
   "metadata": {},
   "source": [
    "Para realizar o fit das curvas com a lei das potências usaremos o pacote lmfit"
   ]
  },
  {
   "cell_type": "code",
   "execution_count": 33,
   "metadata": {
    "ExecuteTime": {
     "end_time": "2021-04-29T12:33:48.551513Z",
     "start_time": "2021-04-29T12:33:48.534558Z"
    }
   },
   "outputs": [],
   "source": [
    "import lmfit as lm\n",
    "import numpy as np"
   ]
  },
  {
   "cell_type": "markdown",
   "metadata": {},
   "source": [
    "Esse pacote funciona otimizando um modelo pré fornecido. Para isso precisaremos criar um modelo que siga as leis das potências e em seguida criar uma classe de modelo."
   ]
  },
  {
   "cell_type": "code",
   "execution_count": 7,
   "metadata": {
    "ExecuteTime": {
     "end_time": "2021-04-29T11:45:20.708779Z",
     "start_time": "2021-04-29T11:45:20.697322Z"
    }
   },
   "outputs": [
    {
     "data": {
      "text/plain": [
       "(54, 5)"
      ]
     },
     "execution_count": 7,
     "metadata": {},
     "output_type": "execute_result"
    }
   ],
   "source": [
    "t0_30.shape"
   ]
  },
  {
   "cell_type": "code",
   "execution_count": 8,
   "metadata": {
    "ExecuteTime": {
     "end_time": "2021-04-29T11:45:20.740653Z",
     "start_time": "2021-04-29T11:45:20.712769Z"
    }
   },
   "outputs": [
    {
     "data": {
      "text/plain": [
       "0       1.214\n",
       "1       1.529\n",
       "2       1.924\n",
       "3       2.423\n",
       "4       3.049\n",
       "5       3.838\n",
       "6       4.832\n",
       "7       6.099\n",
       "8       7.678\n",
       "9       9.665\n",
       "10     12.190\n",
       "11     15.350\n",
       "12     19.350\n",
       "13     24.350\n",
       "14     30.690\n",
       "15     38.670\n",
       "16     48.720\n",
       "17     61.330\n",
       "18     77.200\n",
       "19     97.190\n",
       "20    122.300\n",
       "21    154.000\n",
       "22    193.800\n",
       "23    244.000\n",
       "24    307.200\n",
       "25    386.700\n",
       "26    486.800\n",
       "Name: Shear rate(s-¹), dtype: float64"
      ]
     },
     "execution_count": 8,
     "metadata": {},
     "output_type": "execute_result"
    }
   ],
   "source": [
    "t0_30['Shear rate(s-¹)'][:27]"
   ]
  },
  {
   "cell_type": "code",
   "execution_count": 9,
   "metadata": {
    "ExecuteTime": {
     "end_time": "2021-04-29T11:45:20.771570Z",
     "start_time": "2021-04-29T11:45:20.744643Z"
    }
   },
   "outputs": [],
   "source": [
    "def lei_potencias(gamma, tau_0, k, n):\n",
    "    return  tau_0 + k*gamma**n\n",
    "\n",
    "lei_pot_mod = lm.Model(lei_potencias)\n",
    "\n"
   ]
  },
  {
   "cell_type": "markdown",
   "metadata": {},
   "source": [
    "Para fitar, basta chamar o método fit e fornecer os dados para fitar. Precisamos lembrar que as nossas curvas apresentam tanto a ida quanto a volta, e portanto precisamos apenas da metade dos dados. Para descobrir a quantidade dos dados podemos acessar a variável shape dos nossos dataframes."
   ]
  },
  {
   "cell_type": "code",
   "execution_count": 10,
   "metadata": {
    "ExecuteTime": {
     "end_time": "2021-04-29T11:45:20.786531Z",
     "start_time": "2021-04-29T11:45:20.773566Z"
    }
   },
   "outputs": [
    {
     "data": {
      "text/plain": [
       "(54, 5)"
      ]
     },
     "execution_count": 10,
     "metadata": {},
     "output_type": "execute_result"
    }
   ],
   "source": [
    "t0_30.shape"
   ]
  },
  {
   "cell_type": "markdown",
   "metadata": {},
   "source": [
    "Portanto, temos 54 pontos ao total. Se pegarmos apenas até o ponto 27 teremos a ida."
   ]
  },
  {
   "cell_type": "code",
   "execution_count": 37,
   "metadata": {
    "ExecuteTime": {
     "end_time": "2021-04-29T12:42:53.604248Z",
     "start_time": "2021-04-29T12:42:53.296964Z"
    }
   },
   "outputs": [],
   "source": [
    "t0_30_fit = lei_pot_mod.fit(t0_30['Shear stress(Pa)'][:27],\n",
    "                            gamma=t0_30['Shear rate(s-¹)'][:27],\n",
    "                            tau_0=5, k=5, n=5)"
   ]
  },
  {
   "cell_type": "code",
   "execution_count": 12,
   "metadata": {
    "ExecuteTime": {
     "end_time": "2021-04-29T11:45:21.114243Z",
     "start_time": "2021-04-29T11:45:21.102275Z"
    },
    "scrolled": true
   },
   "outputs": [
    {
     "name": "stdout",
     "output_type": "stream",
     "text": [
      "[[Model]]\n",
      "    Model(lei_potencias)\n",
      "[[Fit Statistics]]\n",
      "    # fitting method   = leastsq\n",
      "    # function evals   = 293\n",
      "    # data points      = 27\n",
      "    # variables        = 3\n",
      "    chi-square         = 0.50389188\n",
      "    reduced chi-square = 0.02099549\n",
      "    Akaike info crit   = -101.493222\n",
      "    Bayesian info crit = -97.6057110\n",
      "[[Variables]]\n",
      "    tau_0: -0.30004516 +/- 0.05363065 (17.87%) (init = 5)\n",
      "    k:      0.28639053 +/- 0.00760723 (2.66%) (init = 5)\n",
      "    n:      0.82208613 +/- 0.00437735 (0.53%) (init = 5)\n",
      "[[Correlations]] (unreported correlations are < 0.100)\n",
      "    C(k, n)     = -0.996\n",
      "    C(tau_0, k) = -0.780\n",
      "    C(tau_0, n) =  0.747\n",
      "\n"
     ]
    }
   ],
   "source": [
    "print(t0_30_fit.fit_report())"
   ]
  },
  {
   "cell_type": "code",
   "execution_count": 41,
   "metadata": {
    "ExecuteTime": {
     "end_time": "2021-04-29T12:47:30.734907Z",
     "start_time": "2021-04-29T12:47:30.560029Z"
    }
   },
   "outputs": [
    {
     "data": {
      "image/png": "[encoded data removed]",
      "text/plain": [
       "<Figure size 640x480 with 1 Axes>"
      ]
     },
     "metadata": {},
     "output_type": "display_data"
    }
   ],
   "source": [
    "plt.plot(t0_30['Shear rate(s-¹)'][:27], t0_30['Shear stress(Pa)'][:27], color='blue', marker='o')\n",
    "plt.plot(t0_30['Shear rate(s-¹)'][:27], t0_30_fit.best_fit, color='red')\n",
    "plt.grid()\n",
    "plt.show()"
   ]
  },
  {
   "cell_type": "code",
   "execution_count": 14,
   "metadata": {
    "ExecuteTime": {
     "end_time": "2021-04-29T11:45:22.323199Z",
     "start_time": "2021-04-29T11:45:21.288969Z"
    }
   },
   "outputs": [
    {
     "data": {
      "image/png": "[encoded data removed]",
      "text/plain": [
       "<Figure size 432x288 with 1 Axes>"
      ]
     },
     "metadata": {
      "needs_background": "light"
     },
     "output_type": "display_data"
    }
   ],
   "source": [
    "plt.loglog(t0_30['Shear rate(s-¹)'][:27], t0_30['Shear stress(Pa)'][:27], 'bo')\n",
    "plt.loglog(t0_30['Shear rate(s-¹)'][:27], t0_30_fit.best_fit, 'r-')\n",
    "\n",
    "plt.ylabel('Shear stress(Pa)')\n",
    "plt.xlabel('Shear rate(s-¹)')\n",
    "\n",
    "plt.grid()\n",
    "plt.show()"
   ]
  },
  {
   "cell_type": "markdown",
   "metadata": {},
   "source": [
    "Observe que a diferença entre o valor experimental e a interpolação é maior para os valores mais baixos. Isso não é coincidência! **Por que?**"
   ]
  },
  {
   "cell_type": "markdown",
   "metadata": {},
   "source": [
    "## Fitando em escala log"
   ]
  },
  {
   "cell_type": "markdown",
   "metadata": {},
   "source": [
    "Para começar vamos linearizar a equação de Hurschel-Bulkley, Equação (2):\n",
    "\n",
    "\n",
    "\\begin{equation}\n",
    "\\tau = \\tau_0 + k \\ \\dot{\\gamma}^n\n",
    "\\end{equation}\n",
    "\n",
    "\\begin{equation}\n",
    "\\tau - \\tau_0 = k \\ \\dot{\\gamma}^n\n",
    "\\end{equation}\n",
    "\n",
    "\\begin{equation}\n",
    "\\log{\\left(\\tau - \\tau_0 \\right)} = \\log{\\left( k \\ \\dot{\\gamma}^n \\right)}\n",
    "\\end{equation}\n",
    "\n",
    "\\begin{equation}\n",
    "\\log{\\left(\\tau - \\tau_0 \\right)} = \\log{k} + n  \\log{\\dot{\\gamma}}\n",
    "\\end{equation}\n",
    "\n",
    "\\begin{equation}\n",
    "y = a + b \\ x\n",
    "\\end{equation}"
   ]
  },
  {
   "cell_type": "markdown",
   "metadata": {},
   "source": [
    "E agora temos um **problema!**\n",
    "\n",
    "Observe que para poder linearizar a equação precisamos colocar o termo $\\tau_0$ no lado esquerdo da equação.\n",
    "A implicação matemática desse simples \"trocar de lado\" é tremenda. Agora, não mais obteremos o $\\tau_0$ da regressão, mas sim precisaremos fornecer uma **estimativa**. Vamos testar 90 % e 50% do menor valor medido de tensão de cisalhamento!"
   ]
  },
  {
   "cell_type": "code",
   "execution_count": 15,
   "metadata": {
    "ExecuteTime": {
     "end_time": "2021-04-29T11:45:22.338159Z",
     "start_time": "2021-04-29T11:45:22.326191Z"
    }
   },
   "outputs": [],
   "source": [
    "def lei_potencias_linear(x, a, b):\n",
    "    return  a + b*x\n",
    "\n",
    "lei_pot_lin_mod = lm.Model(lei_potencias_linear)"
   ]
  },
  {
   "cell_type": "code",
   "execution_count": 16,
   "metadata": {
    "ExecuteTime": {
     "end_time": "2021-04-29T11:45:22.354116Z",
     "start_time": "2021-04-29T11:45:22.341151Z"
    }
   },
   "outputs": [],
   "source": [
    "lei_pot_lin_mod.set_param_hint('a', value=-5, min=-10, max=1000.0)\n",
    "lei_pot_lin_mod.set_param_hint('b', value=0.8, min=0.0001, max=1000.0)"
   ]
  },
  {
   "cell_type": "code",
   "execution_count": 17,
   "metadata": {
    "ExecuteTime": {
     "end_time": "2021-04-29T11:45:22.431420Z",
     "start_time": "2021-04-29T11:45:22.357109Z"
    }
   },
   "outputs": [],
   "source": [
    "tau_0_50_porcento_estimado = 0.5*np.min(t0_30['Shear stress(Pa)'][:27])\n",
    "tau_0_90_porcento_estimado = 0.9*np.min(t0_30['Shear stress(Pa)'][:27])\n",
    "\n",
    "x_l = np.log(t0_30['Shear rate(s-¹)'][:27])\n",
    "\n",
    "y_l_50 = np.log(t0_30['Shear stress(Pa)'][:27]-tau_0_50_porcento_estimado)\n",
    "y_l_90 = np.log(t0_30['Shear stress(Pa)'][:27]-tau_0_90_porcento_estimado)\n",
    "\n",
    "\n",
    "t0_30_fit_lin_50 = lei_pot_lin_mod.fit(y_l_50, x=x_l)\n",
    "t0_30_fit_lin_90 = lei_pot_lin_mod.fit(y_l_90, x=x_l)\n",
    "\n",
    "r_sq_50 = 1 - t0_30_fit_lin_50.residual.var() / np.var(t0_30['Shear stress(Pa)'][:27])*100\n",
    "r_sq_90 = 1 - t0_30_fit_lin_90.residual.var() / np.var(t0_30['Shear stress(Pa)'][:27])*100"
   ]
  },
  {
   "cell_type": "code",
   "execution_count": 18,
   "metadata": {
    "ExecuteTime": {
     "end_time": "2021-04-29T11:45:22.447378Z",
     "start_time": "2021-04-29T11:45:22.433416Z"
    },
    "scrolled": false
   },
   "outputs": [
    {
     "name": "stdout",
     "output_type": "stream",
     "text": [
      "Modelo com estimativa de 50 porcento do tau_0: \n",
      " [[Model]]\n",
      "    Model(lei_potencias_linear)\n",
      "[[Fit Statistics]]\n",
      "    # fitting method   = leastsq\n",
      "    # function evals   = 13\n",
      "    # data points      = 27\n",
      "    # variables        = 2\n",
      "    chi-square         = 0.50806758\n",
      "    reduced chi-square = 0.02032270\n",
      "    Akaike info crit   = -103.270397\n",
      "    Bayesian info crit = -100.678724\n",
      "[[Variables]]\n",
      "    a: -2.08747460 +/- 0.05593804 (2.68%) (init = -5)\n",
      "    b:  0.99123926 +/- 0.01527269 (1.54%) (init = 0.8)\n",
      "[[Correlations]] (unreported correlations are < 0.100)\n",
      "    C(a, b) = -0.871\n",
      " \n",
      " ############################################################### \n",
      " \n",
      " Modelo com estimativa de 90 porcento do tau_0: \n",
      " [[Model]]\n",
      "    Model(lei_potencias_linear)\n",
      "[[Fit Statistics]]\n",
      "    # fitting method   = leastsq\n",
      "    # function evals   = 13\n",
      "    # data points      = 27\n",
      "    # variables        = 2\n",
      "    chi-square         = 3.91360233\n",
      "    reduced chi-square = 0.15654409\n",
      "    Akaike info crit   = -48.1472223\n",
      "    Bayesian info crit = -45.5555486\n",
      "[[Variables]]\n",
      "    a: -2.64173573 +/- 0.15525117 (5.88%) (init = -5)\n",
      "    b:  1.11360273 +/- 0.04238802 (3.81%) (init = 0.8)\n",
      "[[Correlations]] (unreported correlations are < 0.100)\n",
      "    C(a, b) = -0.871\n",
      "\n"
     ]
    }
   ],
   "source": [
    "print('Modelo com estimativa de 50 porcento do tau_0: \\n',\n",
    "      t0_30_fit_lin_50.fit_report(),\n",
    "      '\\n ############################################################### \\n',\n",
    "      '\\n Modelo com estimativa de 90 porcento do tau_0: \\n',\n",
    "      t0_30_fit_lin_90.fit_report())"
   ]
  },
  {
   "cell_type": "code",
   "execution_count": 19,
   "metadata": {
    "ExecuteTime": {
     "end_time": "2021-04-29T11:45:22.884704Z",
     "start_time": "2021-04-29T11:45:22.449373Z"
    }
   },
   "outputs": [
    {
     "data": {
      "image/png": "[encoded data removed]",
      "text/plain": [
       "<Figure size 864x288 with 2 Axes>"
      ]
     },
     "metadata": {
      "needs_background": "light"
     },
     "output_type": "display_data"
    }
   ],
   "source": [
    "f, axs = plt.subplots(1, 2, figsize=(12,4))\n",
    "\n",
    "axs[0].plot(x_l, y_l_50, 'bo')\n",
    "axs[0].plot(x_l, t0_30_fit_lin_50.best_fit, 'r-')\n",
    "axs[0].set_title(fr'Estimativa de 50 porcento do $\\tau_0$ (r²={r_sq_50:.2f})')\n",
    "\n",
    "axs[1].plot(x_l, y_l_90, 'bo')\n",
    "axs[1].plot(x_l, t0_30_fit_lin_90.best_fit, 'r-')\n",
    "axs[1].set_title(fr'Estimativa de 90 porcento do $\\tau_0$ (r²={r_sq_90:.2f})')\n",
    "\n",
    "[ax.grid() for ax in axs]\n",
    "[ax.set_ylabel('$y_l$') for ax in axs]\n",
    "[ax.set_xlabel('$x_l$') for ax in axs]\n",
    "\n",
    "plt.show()"
   ]
  },
  {
   "cell_type": "code",
   "execution_count": 20,
   "metadata": {
    "ExecuteTime": {
     "end_time": "2021-04-29T11:45:23.508987Z",
     "start_time": "2021-04-29T11:45:22.886699Z"
    }
   },
   "outputs": [
    {
     "data": {
      "image/png": "[encoded data removed]",
      "text/plain": [
       "<Figure size 432x288 with 1 Axes>"
      ]
     },
     "metadata": {
      "needs_background": "light"
     },
     "output_type": "display_data"
    }
   ],
   "source": [
    "plt.loglog(t0_30['Shear rate(s-¹)'][:27], t0_30['Shear stress(Pa)'][:27], 'bo')\n",
    "plt.loglog(np.exp(x_l),\n",
    "           np.exp(t0_30_fit_lin_50.best_fit+tau_0_50_porcento_estimado), 'r-')\n",
    "\n",
    "plt.ylabel('Shear stress(Pa)')\n",
    "plt.xlabel('Shear rate(s-¹)')\n",
    "plt.title(r'Estimativa com 50% do $\\tau_0$')\n",
    "\n",
    "plt.grid()\n",
    "plt.show()"
   ]
  },
  {
   "cell_type": "markdown",
   "metadata": {},
   "source": [
    "**Moral da história:** não se pode ter tudo... \n",
    "\n",
    "Melhoramos os fits dos primeiros dados, porém agora temos um modelo que depende de um estimador e ainda por cima aumentamos sua imprecisão para maiores taxas de cisalhamento."
   ]
  },
  {
   "cell_type": "markdown",
   "metadata": {},
   "source": [
    "## Sistematizando o uso do lmfit"
   ]
  },
  {
   "cell_type": "code",
   "execution_count": 21,
   "metadata": {
    "ExecuteTime": {
     "end_time": "2021-04-29T11:45:23.524944Z",
     "start_time": "2021-04-29T11:45:23.511980Z"
    }
   },
   "outputs": [],
   "source": [
    "def batch_fit(df):\n",
    "    df_fit = lei_pot_mod.fit(df['Shear stress(Pa)'][:27],\n",
    "                            gamma=df['Shear rate(s-¹)'][:27],\n",
    "                            tau_0=5, k=5, n=5)\n",
    "    tau_0, k, n = df_fit.params.valuesdict().values()\n",
    "    r_sq = 1 - df_fit.residual.var() / np.var(df['Shear stress(Pa)'][:27])*100\n",
    "    return df_fit, tau_0, k, n, r_sq"
   ]
  },
  {
   "cell_type": "code",
   "execution_count": 22,
   "metadata": {
    "ExecuteTime": {
     "end_time": "2021-04-29T11:45:24.656475Z",
     "start_time": "2021-04-29T11:45:23.527938Z"
    }
   },
   "outputs": [],
   "source": [
    "dfs = [t0_30, t0_40, t0_50_2, t1_30]\n",
    "labels = ['t0_30', 't0_40', 't0_50_2', 't1_30']\n",
    "fits = []\n",
    "tau_0s = []\n",
    "ks = []\n",
    "ns = []\n",
    "r_sqs = []\n",
    "for df in dfs:\n",
    "    df_fit, tau_0, k, n, r_sq = batch_fit(df)\n",
    "    fits.append(df_fit)\n",
    "    tau_0s.append(tau_0)\n",
    "    ks.append(k)\n",
    "    ns.append(n)\n",
    "    r_sqs.append(r_sq)"
   ]
  },
  {
   "cell_type": "code",
   "execution_count": 23,
   "metadata": {
    "ExecuteTime": {
     "end_time": "2021-04-29T11:45:26.784197Z",
     "start_time": "2021-04-29T11:45:24.662421Z"
    }
   },
   "outputs": [
    {
     "data": {
      "image/png": "[encoded data removed]",
      "text/plain": [
       "<Figure size 640x480 with 4 Axes>"
      ]
     },
     "metadata": {},
     "output_type": "display_data"
    }
   ],
   "source": [
    "plt.style.use('default')\n",
    "f, axs = plt.subplots(2, 2)\n",
    "for ax, i, t in zip(axs.flatten(), range(len(dfs)), labels):\n",
    "    ax.loglog(dfs[i]['Shear rate(s-¹)'][:27], dfs[i]['Shear stress(Pa)'][:27],\n",
    "              'bo', label='Experimento')\n",
    "    ax.loglog(dfs[i]['Shear rate(s-¹)'][:27], fits[i].best_fit, label='Fit')\n",
    "    ax.loglog(dfs[i]['Shear rate(s-¹)'][:27], abs(fits[i].residual), '.', \n",
    "              label='Resíduo')\n",
    "    ax.grid()\n",
    "\n",
    "    ax.set_xlabel(r'$\\dot{\\gamma}$ [s$^{-1}$]')\n",
    "    ax.set_ylabel(r'$\\tau$ [Pa]' )\n",
    "    ax.set_xlim(1, 1000)\n",
    "    ax.set_title(t)\n",
    "    \n",
    "    \n",
    "\n",
    "axs[0,1].legend(loc='center left', bbox_to_anchor=(1, 0.75))\n",
    "plt.tight_layout()\n",
    "plt.show()"
   ]
  },
  {
   "cell_type": "code",
   "execution_count": 24,
   "metadata": {
    "ExecuteTime": {
     "end_time": "2021-04-29T11:45:26.799155Z",
     "start_time": "2021-04-29T11:45:26.787155Z"
    }
   },
   "outputs": [],
   "source": [
    "resumo = pd.DataFrame({r'$\\tau_0$': tau_0s, 'k': ks, 'n': ns, 'r²': r_sqs},\n",
    "                      index=labels)"
   ]
  },
  {
   "cell_type": "code",
   "execution_count": 25,
   "metadata": {
    "ExecuteTime": {
     "end_time": "2021-04-29T11:45:26.814109Z",
     "start_time": "2021-04-29T11:45:26.801118Z"
    },
    "scrolled": false
   },
   "outputs": [
    {
     "data": {
      "text/html": [
       "<div>\n",
       "<style scoped>\n",
       "    .dataframe tbody tr th:only-of-type {\n",
       "        vertical-align: middle;\n",
       "    }\n",
       "\n",
       "    .dataframe tbody tr th {\n",
       "        vertical-align: top;\n",
       "    }\n",
       "\n",
       "    .dataframe thead th {\n",
       "        text-align: right;\n",
       "    }\n",
       "</style>\n",
       "<table border=\"1\" class=\"dataframe\">\n",
       "  <thead>\n",
       "    <tr style=\"text-align: right;\">\n",
       "      <th></th>\n",
       "      <th>$\\tau_0$</th>\n",
       "      <th>k</th>\n",
       "      <th>n</th>\n",
       "      <th>r²</th>\n",
       "    </tr>\n",
       "  </thead>\n",
       "  <tbody>\n",
       "    <tr>\n",
       "      <th>t0_30</th>\n",
       "      <td>-0.300045</td>\n",
       "      <td>0.286391</td>\n",
       "      <td>0.822086</td>\n",
       "      <td>0.987939</td>\n",
       "    </tr>\n",
       "    <tr>\n",
       "      <th>t0_40</th>\n",
       "      <td>92.790643</td>\n",
       "      <td>8.513666</td>\n",
       "      <td>0.553112</td>\n",
       "      <td>0.773996</td>\n",
       "    </tr>\n",
       "    <tr>\n",
       "      <th>t0_50_2</th>\n",
       "      <td>64.028919</td>\n",
       "      <td>287.506554</td>\n",
       "      <td>0.183737</td>\n",
       "      <td>0.067339</td>\n",
       "    </tr>\n",
       "    <tr>\n",
       "      <th>t1_30</th>\n",
       "      <td>12.726889</td>\n",
       "      <td>16.516604</td>\n",
       "      <td>0.421807</td>\n",
       "      <td>0.984905</td>\n",
       "    </tr>\n",
       "  </tbody>\n",
       "</table>\n",
       "</div>"
      ],
      "text/plain": [
       "          $\\tau_0$           k         n        r²\n",
       "t0_30    -0.300045    0.286391  0.822086  0.987939\n",
       "t0_40    92.790643    8.513666  0.553112  0.773996\n",
       "t0_50_2  64.028919  287.506554  0.183737  0.067339\n",
       "t1_30    12.726889   16.516604  0.421807  0.984905"
      ]
     },
     "execution_count": 25,
     "metadata": {},
     "output_type": "execute_result"
    }
   ],
   "source": [
    "resumo"
   ]
  },
  {
   "cell_type": "code",
   "execution_count": 48,
   "metadata": {
    "ExecuteTime": {
     "end_time": "2021-04-29T13:06:31.663872Z",
     "start_time": "2021-04-29T13:06:30.695741Z"
    }
   },
   "outputs": [
    {
     "data": {
      "image/png": "[encoded data removed]",
      "text/plain": [
       "<Figure size 640x480 with 1 Axes>"
      ]
     },
     "metadata": {},
     "output_type": "display_data"
    }
   ],
   "source": [
    "plt.style.use('seaborn-colorblind')\n",
    "resumo.plot(kind='bar', logy=True, zorder=3)\n",
    "\n",
    "plt.ylabel('Valores [-]')\n",
    "plt.xticks(rotation=0)\n",
    "plt.grid()\n",
    "plt.savefig('Resumo.svg')\n",
    "# plt.savefig('Resumo.pdf')\n",
    "plt.savefig('Resumo.png')\n",
    "plt.savefig('Resumo.jpg')\n",
    "plt.show()"
   ]
  },
  {
   "cell_type": "code",
   "execution_count": 43,
   "metadata": {
    "ExecuteTime": {
     "end_time": "2021-04-29T13:01:23.240093Z",
     "start_time": "2021-04-29T13:01:23.222148Z"
    }
   },
   "outputs": [],
   "source": [
    "resumo.to_csv('Resumo.csv')"
   ]
  },
  {
   "cell_type": "markdown",
   "metadata": {},
   "source": [
    "# Referências"
   ]
  },
  {
   "cell_type": "markdown",
   "metadata": {},
   "source": [
    "<a name=\"Rheology\">1</a>: Faith A. Morrison, Understanding Rheology"
   ]
  }
 ],
 "metadata": {
  "hide_input": false,
  "kernel_info": {
   "name": "python3"
  },
  "kernelspec": {
   "display_name": "Python 3",
   "language": "python",
   "name": "python3"
  },
  "language_info": {
   "codemirror_mode": {
    "name": "ipython",
    "version": 3
   },
   "file_extension": ".py",
   "mimetype": "text/x-python",
   "name": "python",
   "nbconvert_exporter": "python",
   "pygments_lexer": "ipython3",
   "version": "3.7.7"
  },
  "latex_envs": {
   "LaTeX_envs_menu_present": true,
   "autoclose": false,
   "autocomplete": true,
   "bibliofile": "biblio.bib",
   "cite_by": "apalike",
   "current_citInitial": 1,
   "eqLabelWithNumbers": true,
   "eqNumInitial": 1,
   "hotkeys": {
    "equation": "Ctrl-E",
    "itemize": "Ctrl-I"
   },
   "labels_anchors": false,
   "latex_user_defs": false,
   "report_style_numbering": true,
   "user_envs_cfg": false
  },
  "nteract": {
   "version": "0.9.1"
  },
  "toc": {
   "base_numbering": 1,
   "nav_menu": {},
   "number_sections": true,
   "sideBar": true,
   "skip_h1_title": false,
   "title_cell": "Table of Contents",
   "title_sidebar": "Contents",
   "toc_cell": false,
   "toc_position": {},
   "toc_section_display": true,
   "toc_window_display": false
  },
  "varInspector": {
   "cols": {
    "lenName": 16,
    "lenType": 16,
    "lenVar": 40
   },
   "kernels_config": {
    "python": {
     "delete_cmd_postfix": "",
     "delete_cmd_prefix": "del ",
     "library": "var_list.py",
     "varRefreshCmd": "print(var_dic_list())"
    },
    "r": {
     "delete_cmd_postfix": ") ",
     "delete_cmd_prefix": "rm(",
     "library": "var_list.r",
     "varRefreshCmd": "cat(var_dic_list()) "
    }
   },
   "types_to_exclude": [
    "module",
    "function",
    "builtin_function_or_method",
    "instance",
    "_Feature"
   ],
   "window_display": false
  }
 },
 "nbformat": 4,
 "nbformat_minor": 2
}
